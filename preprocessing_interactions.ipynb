{
 "cells": [
  {
   "cell_type": "code",
   "execution_count": 1,
   "metadata": {},
   "outputs": [],
   "source": [
    "import pandas as pd"
   ]
  },
  {
   "cell_type": "code",
   "execution_count": 7,
   "metadata": {},
   "outputs": [],
   "source": [
    "posts=pd.read_csv(\"new_df.csv\")"
   ]
  },
  {
   "cell_type": "code",
   "execution_count": 2,
   "metadata": {},
   "outputs": [],
   "source": [
    "activity=pd.read_csv(\"post_activity.csv\")"
   ]
  },
  {
   "cell_type": "code",
   "execution_count": 3,
   "metadata": {},
   "outputs": [
    {
     "data": {
      "text/html": [
       "<div>\n",
       "<style scoped>\n",
       "    .dataframe tbody tr th:only-of-type {\n",
       "        vertical-align: middle;\n",
       "    }\n",
       "\n",
       "    .dataframe tbody tr th {\n",
       "        vertical-align: top;\n",
       "    }\n",
       "\n",
       "    .dataframe thead th {\n",
       "        text-align: right;\n",
       "    }\n",
       "</style>\n",
       "<table border=\"1\" class=\"dataframe\">\n",
       "  <thead>\n",
       "    <tr style=\"text-align: right;\">\n",
       "      <th></th>\n",
       "      <th>id</th>\n",
       "      <th>user_id</th>\n",
       "      <th>activity_type</th>\n",
       "      <th>content_id</th>\n",
       "      <th>created_at</th>\n",
       "      <th>updated_at</th>\n",
       "    </tr>\n",
       "  </thead>\n",
       "  <tbody>\n",
       "    <tr>\n",
       "      <th>0</th>\n",
       "      <td>52</td>\n",
       "      <td>566</td>\n",
       "      <td>like</td>\n",
       "      <td>1479</td>\n",
       "      <td>2024-11-03 17:27:42</td>\n",
       "      <td>2024-11-03 17:27:42</td>\n",
       "    </tr>\n",
       "    <tr>\n",
       "      <th>1</th>\n",
       "      <td>92</td>\n",
       "      <td>678</td>\n",
       "      <td>view</td>\n",
       "      <td>1383</td>\n",
       "      <td>2024-11-04 09:06:57</td>\n",
       "      <td>2024-11-04 09:06:57</td>\n",
       "    </tr>\n",
       "    <tr>\n",
       "      <th>2</th>\n",
       "      <td>143</td>\n",
       "      <td>142</td>\n",
       "      <td>comment</td>\n",
       "      <td>1518</td>\n",
       "      <td>2024-11-04 14:54:49</td>\n",
       "      <td>2024-11-04 14:54:49</td>\n",
       "    </tr>\n",
       "    <tr>\n",
       "      <th>3</th>\n",
       "      <td>178</td>\n",
       "      <td>752</td>\n",
       "      <td>like</td>\n",
       "      <td>984</td>\n",
       "      <td>2024-11-04 15:38:02</td>\n",
       "      <td>2024-11-04 15:38:02</td>\n",
       "    </tr>\n",
       "    <tr>\n",
       "      <th>4</th>\n",
       "      <td>179</td>\n",
       "      <td>752</td>\n",
       "      <td>like</td>\n",
       "      <td>958</td>\n",
       "      <td>2024-11-04 15:38:34</td>\n",
       "      <td>2024-11-04 15:38:34</td>\n",
       "    </tr>\n",
       "  </tbody>\n",
       "</table>\n",
       "</div>"
      ],
      "text/plain": [
       "    id  user_id activity_type  content_id           created_at  \\\n",
       "0   52      566          like        1479  2024-11-03 17:27:42   \n",
       "1   92      678          view        1383  2024-11-04 09:06:57   \n",
       "2  143      142       comment        1518  2024-11-04 14:54:49   \n",
       "3  178      752          like         984  2024-11-04 15:38:02   \n",
       "4  179      752          like         958  2024-11-04 15:38:34   \n",
       "\n",
       "            updated_at  \n",
       "0  2024-11-03 17:27:42  \n",
       "1  2024-11-04 09:06:57  \n",
       "2  2024-11-04 14:54:49  \n",
       "3  2024-11-04 15:38:02  \n",
       "4  2024-11-04 15:38:34  "
      ]
     },
     "execution_count": 3,
     "metadata": {},
     "output_type": "execute_result"
    }
   ],
   "source": [
    "activity.head()"
   ]
  },
  {
   "cell_type": "code",
   "execution_count": 4,
   "metadata": {},
   "outputs": [],
   "source": [
    "# fields=user_id, post_id, interaction_type\n",
    "activity.rename(columns={\"content_id\":\"post_id\",\"activity_type\":\"interaction_type\"},inplace=True)"
   ]
  },
  {
   "cell_type": "code",
   "execution_count": 18,
   "metadata": {},
   "outputs": [],
   "source": [
    "activity.to_csv(\"interactions_df.csv\")"
   ]
  },
  {
   "cell_type": "code",
   "execution_count": 19,
   "metadata": {},
   "outputs": [],
   "source": [
    "missing_post_ids = set(activity['post_id']).difference(set(posts['post_id']))\n",
    "if missing_post_ids:\n",
    "    print(f\"Missing post_ids in posts_df: {missing_post_ids}\")\n"
   ]
  },
  {
   "cell_type": "code",
   "execution_count": 20,
   "metadata": {},
   "outputs": [
    {
     "data": {
      "text/plain": [
       "0"
      ]
     },
     "execution_count": 20,
     "metadata": {},
     "output_type": "execute_result"
    }
   ],
   "source": [
    "len(missing_post_ids)"
   ]
  },
  {
   "cell_type": "code",
   "execution_count": 21,
   "metadata": {},
   "outputs": [],
   "source": [
    "activity = activity[activity['post_id'].isin(posts['post_id'])]\n"
   ]
  },
  {
   "cell_type": "code",
   "execution_count": 22,
   "metadata": {},
   "outputs": [
    {
     "data": {
      "text/plain": [
       "(2304, 6)"
      ]
     },
     "execution_count": 22,
     "metadata": {},
     "output_type": "execute_result"
    }
   ],
   "source": [
    "activity.shape"
   ]
  },
  {
   "cell_type": "code",
   "execution_count": 24,
   "metadata": {},
   "outputs": [],
   "source": [
    "activity.to_csv(\"interactions_df2.csv\")"
   ]
  },
  {
   "cell_type": "code",
   "execution_count": null,
   "metadata": {},
   "outputs": [],
   "source": []
  }
 ],
 "metadata": {
  "kernelspec": {
   "display_name": "Python 3",
   "language": "python",
   "name": "python3"
  },
  "language_info": {
   "codemirror_mode": {
    "name": "ipython",
    "version": 3
   },
   "file_extension": ".py",
   "mimetype": "text/x-python",
   "name": "python",
   "nbconvert_exporter": "python",
   "pygments_lexer": "ipython3",
   "version": "3.11.3"
  }
 },
 "nbformat": 4,
 "nbformat_minor": 2
}
