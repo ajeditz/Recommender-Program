{
 "cells": [
  {
   "cell_type": "code",
   "execution_count": 3,
   "metadata": {},
   "outputs": [],
   "source": [
    "import pandas as pd"
   ]
  },
  {
   "cell_type": "code",
   "execution_count": 73,
   "metadata": {},
   "outputs": [],
   "source": [
    "posts_df=pd.read_csv(r\"D:\\app_square\\recommedaiton_engine\\recommdder_program\\Recommender-Program\\pilot_posts.csv\")"
   ]
  },
  {
   "cell_type": "code",
   "execution_count": 74,
   "metadata": {},
   "outputs": [
    {
     "data": {
      "text/html": [
       "<div>\n",
       "<style scoped>\n",
       "    .dataframe tbody tr th:only-of-type {\n",
       "        vertical-align: middle;\n",
       "    }\n",
       "\n",
       "    .dataframe tbody tr th {\n",
       "        vertical-align: top;\n",
       "    }\n",
       "\n",
       "    .dataframe thead th {\n",
       "        text-align: right;\n",
       "    }\n",
       "</style>\n",
       "<table border=\"1\" class=\"dataframe\">\n",
       "  <thead>\n",
       "    <tr style=\"text-align: right;\">\n",
       "      <th></th>\n",
       "      <th>Post ID</th>\n",
       "      <th>Caption</th>\n",
       "      <th>Category Names</th>\n",
       "      <th>Category Descriptions</th>\n",
       "      <th>Image URL</th>\n",
       "      <th>Save Count</th>\n",
       "      <th>Comment Count</th>\n",
       "      <th>Share Count</th>\n",
       "      <th>Like Count</th>\n",
       "      <th>Views Count</th>\n",
       "      <th>Start Time</th>\n",
       "      <th>End Time</th>\n",
       "      <th>Created At</th>\n",
       "      <th>Updated At</th>\n",
       "    </tr>\n",
       "  </thead>\n",
       "  <tbody>\n",
       "    <tr>\n",
       "      <th>0</th>\n",
       "      <td>766</td>\n",
       "      <td>It's a new year</td>\n",
       "      <td>NaN</td>\n",
       "      <td>NaN</td>\n",
       "      <td>https://testinglive-backend.s3.af-south-1.amaz...</td>\n",
       "      <td>0</td>\n",
       "      <td>0</td>\n",
       "      <td>0</td>\n",
       "      <td>0</td>\n",
       "      <td>4</td>\n",
       "      <td>NaN</td>\n",
       "      <td>NaN</td>\n",
       "      <td>2024-12-31T22:57:54.000000Z</td>\n",
       "      <td>2024-12-31T22:57:54.000000Z</td>\n",
       "    </tr>\n",
       "    <tr>\n",
       "      <th>1</th>\n",
       "      <td>765</td>\n",
       "      <td>Happy new year 🎉 ✨️</td>\n",
       "      <td>NaN</td>\n",
       "      <td>NaN</td>\n",
       "      <td>https://testinglive-backend.s3.af-south-1.amaz...</td>\n",
       "      <td>0</td>\n",
       "      <td>0</td>\n",
       "      <td>0</td>\n",
       "      <td>0</td>\n",
       "      <td>2</td>\n",
       "      <td>NaN</td>\n",
       "      <td>NaN</td>\n",
       "      <td>2024-12-31T21:26:12.000000Z</td>\n",
       "      <td>2024-12-31T21:26:12.000000Z</td>\n",
       "    </tr>\n",
       "    <tr>\n",
       "      <th>2</th>\n",
       "      <td>764</td>\n",
       "      <td>It's a count down</td>\n",
       "      <td>NaN</td>\n",
       "      <td>NaN</td>\n",
       "      <td>https://testinglive-backend.s3.af-south-1.amaz...</td>\n",
       "      <td>0</td>\n",
       "      <td>0</td>\n",
       "      <td>0</td>\n",
       "      <td>0</td>\n",
       "      <td>2</td>\n",
       "      <td>NaN</td>\n",
       "      <td>NaN</td>\n",
       "      <td>2024-12-31T20:32:56.000000Z</td>\n",
       "      <td>2024-12-31T20:32:56.000000Z</td>\n",
       "    </tr>\n",
       "    <tr>\n",
       "      <th>3</th>\n",
       "      <td>763</td>\n",
       "      <td>2024 is a wrap</td>\n",
       "      <td>NaN</td>\n",
       "      <td>NaN</td>\n",
       "      <td>https://testinglive-backend.s3.af-south-1.amaz...</td>\n",
       "      <td>0</td>\n",
       "      <td>0</td>\n",
       "      <td>0</td>\n",
       "      <td>1</td>\n",
       "      <td>2</td>\n",
       "      <td>NaN</td>\n",
       "      <td>NaN</td>\n",
       "      <td>2024-12-31T20:27:58.000000Z</td>\n",
       "      <td>2024-12-31T20:27:58.000000Z</td>\n",
       "    </tr>\n",
       "    <tr>\n",
       "      <th>4</th>\n",
       "      <td>761</td>\n",
       "      <td>Merry Christmas 🎄🎁🤶☃️</td>\n",
       "      <td>Educational Resources for Kids</td>\n",
       "      <td>Family and Parenting</td>\n",
       "      <td>https://testinglive-backend.s3.af-south-1.amaz...</td>\n",
       "      <td>0</td>\n",
       "      <td>0</td>\n",
       "      <td>0</td>\n",
       "      <td>2</td>\n",
       "      <td>12</td>\n",
       "      <td>NaN</td>\n",
       "      <td>NaN</td>\n",
       "      <td>2024-12-27T08:22:54.000000Z</td>\n",
       "      <td>2024-12-30T14:50:42.000000Z</td>\n",
       "    </tr>\n",
       "  </tbody>\n",
       "</table>\n",
       "</div>"
      ],
      "text/plain": [
       "   Post ID                Caption                  Category Names  \\\n",
       "0      766        It's a new year                             NaN   \n",
       "1      765    Happy new year 🎉 ✨️                             NaN   \n",
       "2      764      It's a count down                             NaN   \n",
       "3      763         2024 is a wrap                             NaN   \n",
       "4      761  Merry Christmas 🎄🎁🤶☃️  Educational Resources for Kids   \n",
       "\n",
       "  Category Descriptions                                          Image URL  \\\n",
       "0                   NaN  https://testinglive-backend.s3.af-south-1.amaz...   \n",
       "1                   NaN  https://testinglive-backend.s3.af-south-1.amaz...   \n",
       "2                   NaN  https://testinglive-backend.s3.af-south-1.amaz...   \n",
       "3                   NaN  https://testinglive-backend.s3.af-south-1.amaz...   \n",
       "4  Family and Parenting  https://testinglive-backend.s3.af-south-1.amaz...   \n",
       "\n",
       "   Save Count  Comment Count  Share Count  Like Count  Views Count  \\\n",
       "0           0              0            0           0            4   \n",
       "1           0              0            0           0            2   \n",
       "2           0              0            0           0            2   \n",
       "3           0              0            0           1            2   \n",
       "4           0              0            0           2           12   \n",
       "\n",
       "   Start Time  End Time                   Created At  \\\n",
       "0         NaN       NaN  2024-12-31T22:57:54.000000Z   \n",
       "1         NaN       NaN  2024-12-31T21:26:12.000000Z   \n",
       "2         NaN       NaN  2024-12-31T20:32:56.000000Z   \n",
       "3         NaN       NaN  2024-12-31T20:27:58.000000Z   \n",
       "4         NaN       NaN  2024-12-27T08:22:54.000000Z   \n",
       "\n",
       "                    Updated At  \n",
       "0  2024-12-31T22:57:54.000000Z  \n",
       "1  2024-12-31T21:26:12.000000Z  \n",
       "2  2024-12-31T20:32:56.000000Z  \n",
       "3  2024-12-31T20:27:58.000000Z  \n",
       "4  2024-12-30T14:50:42.000000Z  "
      ]
     },
     "execution_count": 74,
     "metadata": {},
     "output_type": "execute_result"
    }
   ],
   "source": [
    "posts_df.head()"
   ]
  },
  {
   "cell_type": "code",
   "execution_count": 127,
   "metadata": {},
   "outputs": [
    {
     "data": {
      "text/plain": [
       "0"
      ]
     },
     "execution_count": 127,
     "metadata": {},
     "output_type": "execute_result"
    }
   ],
   "source": [
    "posts_df.duplicated().sum()"
   ]
  },
  {
   "cell_type": "code",
   "execution_count": 75,
   "metadata": {},
   "outputs": [
    {
     "data": {
      "text/plain": [
       "Post ID                    0\n",
       "Caption                    3\n",
       "Category Names            73\n",
       "Category Descriptions     73\n",
       "Image URL                  9\n",
       "Save Count                 0\n",
       "Comment Count              0\n",
       "Share Count                0\n",
       "Like Count                 0\n",
       "Views Count                0\n",
       "Start Time               423\n",
       "End Time                 423\n",
       "Created At                 0\n",
       "Updated At                 0\n",
       "dtype: int64"
      ]
     },
     "execution_count": 75,
     "metadata": {},
     "output_type": "execute_result"
    }
   ],
   "source": [
    "posts_df.isnull().sum()"
   ]
  },
  {
   "cell_type": "code",
   "execution_count": 76,
   "metadata": {},
   "outputs": [],
   "source": [
    "posts_df.dropna(subset=['Category Names','Category Descriptions'],inplace=True)"
   ]
  },
  {
   "cell_type": "code",
   "execution_count": 125,
   "metadata": {},
   "outputs": [
    {
     "data": {
      "text/plain": [
       "False    350\n",
       "Name: count, dtype: int64"
      ]
     },
     "execution_count": 125,
     "metadata": {},
     "output_type": "execute_result"
    }
   ],
   "source": [
    "duplicates=posts_df.duplicated().value_counts()\n",
    "duplicates"
   ]
  },
  {
   "cell_type": "code",
   "execution_count": 121,
   "metadata": {},
   "outputs": [
    {
     "data": {
      "text/html": [
       "<div>\n",
       "<style scoped>\n",
       "    .dataframe tbody tr th:only-of-type {\n",
       "        vertical-align: middle;\n",
       "    }\n",
       "\n",
       "    .dataframe tbody tr th {\n",
       "        vertical-align: top;\n",
       "    }\n",
       "\n",
       "    .dataframe thead th {\n",
       "        text-align: right;\n",
       "    }\n",
       "</style>\n",
       "<table border=\"1\" class=\"dataframe\">\n",
       "  <thead>\n",
       "    <tr style=\"text-align: right;\">\n",
       "      <th></th>\n",
       "      <th>Post ID</th>\n",
       "      <th>Caption</th>\n",
       "      <th>Category Names</th>\n",
       "      <th>Category Descriptions</th>\n",
       "      <th>Image URL</th>\n",
       "      <th>Save Count</th>\n",
       "      <th>Comment Count</th>\n",
       "      <th>Share Count</th>\n",
       "      <th>Like Count</th>\n",
       "      <th>Views Count</th>\n",
       "      <th>Start Time</th>\n",
       "      <th>End Time</th>\n",
       "      <th>Created At</th>\n",
       "      <th>Updated At</th>\n",
       "    </tr>\n",
       "  </thead>\n",
       "  <tbody>\n",
       "    <tr>\n",
       "      <th>4</th>\n",
       "      <td>761</td>\n",
       "      <td>Merry Christmas 🎄🎁🤶☃️</td>\n",
       "      <td>Educational Resources for Kids</td>\n",
       "      <td>Family and Parenting</td>\n",
       "      <td>https://testinglive-backend.s3.af-south-1.amaz...</td>\n",
       "      <td>0</td>\n",
       "      <td>0</td>\n",
       "      <td>0</td>\n",
       "      <td>2</td>\n",
       "      <td>12</td>\n",
       "      <td>NaN</td>\n",
       "      <td>NaN</td>\n",
       "      <td>2024-12-27T08:22:54.000000Z</td>\n",
       "      <td>2024-12-30T14:50:42.000000Z</td>\n",
       "    </tr>\n",
       "    <tr>\n",
       "      <th>6</th>\n",
       "      <td>755</td>\n",
       "      <td>DEVAFO IN THE BUILDING!</td>\n",
       "      <td>Business Networking, Jewelry Making</td>\n",
       "      <td>Business and Entrepreneurship, Creative Arts a...</td>\n",
       "      <td>https://testinglive-backend.s3.af-south-1.amaz...</td>\n",
       "      <td>0</td>\n",
       "      <td>3</td>\n",
       "      <td>0</td>\n",
       "      <td>8</td>\n",
       "      <td>13</td>\n",
       "      <td>NaN</td>\n",
       "      <td>NaN</td>\n",
       "      <td>2024-12-19T19:11:37.000000Z</td>\n",
       "      <td>2024-12-30T14:50:12.000000Z</td>\n",
       "    </tr>\n",
       "    <tr>\n",
       "      <th>7</th>\n",
       "      <td>753</td>\n",
       "      <td>Who is ready for a trip to Dubai? #Dubai #Trip...</td>\n",
       "      <td>Comedy, Anime and Manga, New Parents, Single P...</td>\n",
       "      <td>Entertainment, Entertainment, Family and Paren...</td>\n",
       "      <td>https://testinglive-backend.s3.af-south-1.amaz...</td>\n",
       "      <td>0</td>\n",
       "      <td>1</td>\n",
       "      <td>0</td>\n",
       "      <td>4</td>\n",
       "      <td>21</td>\n",
       "      <td>NaN</td>\n",
       "      <td>NaN</td>\n",
       "      <td>2024-12-18T23:38:54.000000Z</td>\n",
       "      <td>2024-12-30T15:06:38.000000Z</td>\n",
       "    </tr>\n",
       "    <tr>\n",
       "      <th>9</th>\n",
       "      <td>751</td>\n",
       "      <td>#seawave</td>\n",
       "      <td>Theater and Performing Arts, Jewelry Making</td>\n",
       "      <td>Arts and Culture, Creative Arts and Crafts</td>\n",
       "      <td>https://testinglive-backend.s3.af-south-1.amaz...</td>\n",
       "      <td>0</td>\n",
       "      <td>0</td>\n",
       "      <td>0</td>\n",
       "      <td>1</td>\n",
       "      <td>8</td>\n",
       "      <td>NaN</td>\n",
       "      <td>NaN</td>\n",
       "      <td>2024-12-11T11:29:11.000000Z</td>\n",
       "      <td>2024-12-30T14:38:13.000000Z</td>\n",
       "    </tr>\n",
       "    <tr>\n",
       "      <th>12</th>\n",
       "      <td>747</td>\n",
       "      <td>I'll Update you when i get to UnionTown</td>\n",
       "      <td>Theater and Performing Arts, Fan Clubs (e.g. s...</td>\n",
       "      <td>Arts and Culture, Entertainment</td>\n",
       "      <td>https://testinglive-backend.s3.af-south-1.amaz...</td>\n",
       "      <td>0</td>\n",
       "      <td>0</td>\n",
       "      <td>0</td>\n",
       "      <td>2</td>\n",
       "      <td>7</td>\n",
       "      <td>NaN</td>\n",
       "      <td>NaN</td>\n",
       "      <td>2024-12-09T14:41:12.000000Z</td>\n",
       "      <td>2024-12-30T14:38:11.000000Z</td>\n",
       "    </tr>\n",
       "  </tbody>\n",
       "</table>\n",
       "</div>"
      ],
      "text/plain": [
       "    Post ID                                            Caption  \\\n",
       "4       761                              Merry Christmas 🎄🎁🤶☃️   \n",
       "6       755                            DEVAFO IN THE BUILDING!   \n",
       "7       753  Who is ready for a trip to Dubai? #Dubai #Trip...   \n",
       "9       751                                           #seawave   \n",
       "12      747            I'll Update you when i get to UnionTown   \n",
       "\n",
       "                                       Category Names  \\\n",
       "4                      Educational Resources for Kids   \n",
       "6                 Business Networking, Jewelry Making   \n",
       "7   Comedy, Anime and Manga, New Parents, Single P...   \n",
       "9         Theater and Performing Arts, Jewelry Making   \n",
       "12  Theater and Performing Arts, Fan Clubs (e.g. s...   \n",
       "\n",
       "                                Category Descriptions  \\\n",
       "4                                Family and Parenting   \n",
       "6   Business and Entrepreneurship, Creative Arts a...   \n",
       "7   Entertainment, Entertainment, Family and Paren...   \n",
       "9          Arts and Culture, Creative Arts and Crafts   \n",
       "12                    Arts and Culture, Entertainment   \n",
       "\n",
       "                                            Image URL  Save Count  \\\n",
       "4   https://testinglive-backend.s3.af-south-1.amaz...           0   \n",
       "6   https://testinglive-backend.s3.af-south-1.amaz...           0   \n",
       "7   https://testinglive-backend.s3.af-south-1.amaz...           0   \n",
       "9   https://testinglive-backend.s3.af-south-1.amaz...           0   \n",
       "12  https://testinglive-backend.s3.af-south-1.amaz...           0   \n",
       "\n",
       "    Comment Count  Share Count  Like Count  Views Count  Start Time  End Time  \\\n",
       "4               0            0           2           12         NaN       NaN   \n",
       "6               3            0           8           13         NaN       NaN   \n",
       "7               1            0           4           21         NaN       NaN   \n",
       "9               0            0           1            8         NaN       NaN   \n",
       "12              0            0           2            7         NaN       NaN   \n",
       "\n",
       "                     Created At                   Updated At  \n",
       "4   2024-12-27T08:22:54.000000Z  2024-12-30T14:50:42.000000Z  \n",
       "6   2024-12-19T19:11:37.000000Z  2024-12-30T14:50:12.000000Z  \n",
       "7   2024-12-18T23:38:54.000000Z  2024-12-30T15:06:38.000000Z  \n",
       "9   2024-12-11T11:29:11.000000Z  2024-12-30T14:38:13.000000Z  \n",
       "12  2024-12-09T14:41:12.000000Z  2024-12-30T14:38:11.000000Z  "
      ]
     },
     "execution_count": 121,
     "metadata": {},
     "output_type": "execute_result"
    }
   ],
   "source": [
    "posts_df.head(5)"
   ]
  },
  {
   "cell_type": "code",
   "execution_count": 78,
   "metadata": {},
   "outputs": [
    {
     "name": "stdout",
     "output_type": "stream",
     "text": [
      "Index(['Post ID', 'Caption', 'Category Names', 'Category Descriptions',\n",
      "       'Image URL', 'Save Count', 'Comment Count', 'Share Count', 'Like Count',\n",
      "       'Views Count', 'Start Time', 'End Time', 'Created At', 'Updated At'],\n",
      "      dtype='object')\n"
     ]
    }
   ],
   "source": [
    "print(posts_df.columns)"
   ]
  },
  {
   "cell_type": "code",
   "execution_count": 79,
   "metadata": {},
   "outputs": [],
   "source": [
    "# title, description, location, tags\n",
    "# title=Caption\n",
    "# description= categories_names\n",
    "# location=country\n",
    "# tags= category_descriptions"
   ]
  },
  {
   "cell_type": "code",
   "execution_count": 80,
   "metadata": {},
   "outputs": [],
   "source": [
    "new_df=posts_df[['Post ID','Caption','Category Names','Category Descriptions', 'Image URL','Created At','Updated At']]"
   ]
  },
  {
   "cell_type": "code",
   "execution_count": 81,
   "metadata": {},
   "outputs": [
    {
     "data": {
      "text/html": [
       "<div>\n",
       "<style scoped>\n",
       "    .dataframe tbody tr th:only-of-type {\n",
       "        vertical-align: middle;\n",
       "    }\n",
       "\n",
       "    .dataframe tbody tr th {\n",
       "        vertical-align: top;\n",
       "    }\n",
       "\n",
       "    .dataframe thead th {\n",
       "        text-align: right;\n",
       "    }\n",
       "</style>\n",
       "<table border=\"1\" class=\"dataframe\">\n",
       "  <thead>\n",
       "    <tr style=\"text-align: right;\">\n",
       "      <th></th>\n",
       "      <th>Post ID</th>\n",
       "      <th>Caption</th>\n",
       "      <th>Category Names</th>\n",
       "      <th>Category Descriptions</th>\n",
       "      <th>Image URL</th>\n",
       "      <th>Created At</th>\n",
       "      <th>Updated At</th>\n",
       "    </tr>\n",
       "  </thead>\n",
       "  <tbody>\n",
       "    <tr>\n",
       "      <th>4</th>\n",
       "      <td>761</td>\n",
       "      <td>Merry Christmas 🎄🎁🤶☃️</td>\n",
       "      <td>Educational Resources for Kids</td>\n",
       "      <td>Family and Parenting</td>\n",
       "      <td>https://testinglive-backend.s3.af-south-1.amaz...</td>\n",
       "      <td>2024-12-27T08:22:54.000000Z</td>\n",
       "      <td>2024-12-30T14:50:42.000000Z</td>\n",
       "    </tr>\n",
       "    <tr>\n",
       "      <th>6</th>\n",
       "      <td>755</td>\n",
       "      <td>DEVAFO IN THE BUILDING!</td>\n",
       "      <td>Business Networking, Jewelry Making</td>\n",
       "      <td>Business and Entrepreneurship, Creative Arts a...</td>\n",
       "      <td>https://testinglive-backend.s3.af-south-1.amaz...</td>\n",
       "      <td>2024-12-19T19:11:37.000000Z</td>\n",
       "      <td>2024-12-30T14:50:12.000000Z</td>\n",
       "    </tr>\n",
       "    <tr>\n",
       "      <th>7</th>\n",
       "      <td>753</td>\n",
       "      <td>Who is ready for a trip to Dubai? #Dubai #Trip...</td>\n",
       "      <td>Comedy, Anime and Manga, New Parents, Single P...</td>\n",
       "      <td>Entertainment, Entertainment, Family and Paren...</td>\n",
       "      <td>https://testinglive-backend.s3.af-south-1.amaz...</td>\n",
       "      <td>2024-12-18T23:38:54.000000Z</td>\n",
       "      <td>2024-12-30T15:06:38.000000Z</td>\n",
       "    </tr>\n",
       "    <tr>\n",
       "      <th>9</th>\n",
       "      <td>751</td>\n",
       "      <td>#seawave</td>\n",
       "      <td>Theater and Performing Arts, Jewelry Making</td>\n",
       "      <td>Arts and Culture, Creative Arts and Crafts</td>\n",
       "      <td>https://testinglive-backend.s3.af-south-1.amaz...</td>\n",
       "      <td>2024-12-11T11:29:11.000000Z</td>\n",
       "      <td>2024-12-30T14:38:13.000000Z</td>\n",
       "    </tr>\n",
       "    <tr>\n",
       "      <th>12</th>\n",
       "      <td>747</td>\n",
       "      <td>I'll Update you when i get to UnionTown</td>\n",
       "      <td>Theater and Performing Arts, Fan Clubs (e.g. s...</td>\n",
       "      <td>Arts and Culture, Entertainment</td>\n",
       "      <td>https://testinglive-backend.s3.af-south-1.amaz...</td>\n",
       "      <td>2024-12-09T14:41:12.000000Z</td>\n",
       "      <td>2024-12-30T14:38:11.000000Z</td>\n",
       "    </tr>\n",
       "  </tbody>\n",
       "</table>\n",
       "</div>"
      ],
      "text/plain": [
       "    Post ID                                            Caption  \\\n",
       "4       761                              Merry Christmas 🎄🎁🤶☃️   \n",
       "6       755                            DEVAFO IN THE BUILDING!   \n",
       "7       753  Who is ready for a trip to Dubai? #Dubai #Trip...   \n",
       "9       751                                           #seawave   \n",
       "12      747            I'll Update you when i get to UnionTown   \n",
       "\n",
       "                                       Category Names  \\\n",
       "4                      Educational Resources for Kids   \n",
       "6                 Business Networking, Jewelry Making   \n",
       "7   Comedy, Anime and Manga, New Parents, Single P...   \n",
       "9         Theater and Performing Arts, Jewelry Making   \n",
       "12  Theater and Performing Arts, Fan Clubs (e.g. s...   \n",
       "\n",
       "                                Category Descriptions  \\\n",
       "4                                Family and Parenting   \n",
       "6   Business and Entrepreneurship, Creative Arts a...   \n",
       "7   Entertainment, Entertainment, Family and Paren...   \n",
       "9          Arts and Culture, Creative Arts and Crafts   \n",
       "12                    Arts and Culture, Entertainment   \n",
       "\n",
       "                                            Image URL  \\\n",
       "4   https://testinglive-backend.s3.af-south-1.amaz...   \n",
       "6   https://testinglive-backend.s3.af-south-1.amaz...   \n",
       "7   https://testinglive-backend.s3.af-south-1.amaz...   \n",
       "9   https://testinglive-backend.s3.af-south-1.amaz...   \n",
       "12  https://testinglive-backend.s3.af-south-1.amaz...   \n",
       "\n",
       "                     Created At                   Updated At  \n",
       "4   2024-12-27T08:22:54.000000Z  2024-12-30T14:50:42.000000Z  \n",
       "6   2024-12-19T19:11:37.000000Z  2024-12-30T14:50:12.000000Z  \n",
       "7   2024-12-18T23:38:54.000000Z  2024-12-30T15:06:38.000000Z  \n",
       "9   2024-12-11T11:29:11.000000Z  2024-12-30T14:38:13.000000Z  \n",
       "12  2024-12-09T14:41:12.000000Z  2024-12-30T14:38:11.000000Z  "
      ]
     },
     "execution_count": 81,
     "metadata": {},
     "output_type": "execute_result"
    }
   ],
   "source": [
    "new_df.head()"
   ]
  },
  {
   "cell_type": "code",
   "execution_count": 82,
   "metadata": {},
   "outputs": [
    {
     "name": "stderr",
     "output_type": "stream",
     "text": [
      "C:\\Users\\ATISHKUMAR\\AppData\\Local\\Temp\\ipykernel_5728\\2282091456.py:1: SettingWithCopyWarning: \n",
      "A value is trying to be set on a copy of a slice from a DataFrame\n",
      "\n",
      "See the caveats in the documentation: https://pandas.pydata.org/pandas-docs/stable/user_guide/indexing.html#returning-a-view-versus-a-copy\n",
      "  new_df.rename(columns={\"Post ID\":\"post_id\",\"Caption\":\"title\",\"Category Names\":\"description\",\"Country\":\"location\",\"Category Descriptions\":\"tags\", \"Image URL\":\"image_url\",\"Created At\":\"created_at\",\"Updated At\":\"updated_at\"}, inplace=True)\n"
     ]
    }
   ],
   "source": [
    "new_df.rename(columns={\"Post ID\":\"post_id\",\"Caption\":\"title\",\"Category Names\":\"description\",\"Country\":\"location\",\"Category Descriptions\":\"tags\", \"Image URL\":\"image_url\",\"Created At\":\"created_at\",\"Updated At\":\"updated_at\"}, inplace=True)"
   ]
  },
  {
   "cell_type": "code",
   "execution_count": 83,
   "metadata": {},
   "outputs": [
    {
     "data": {
      "text/plain": [
       "Index(['post_id', 'title', 'description', 'tags', 'image_url', 'created_at',\n",
       "       'updated_at'],\n",
       "      dtype='object')"
      ]
     },
     "execution_count": 83,
     "metadata": {},
     "output_type": "execute_result"
    }
   ],
   "source": [
    "new_df.columns"
   ]
  },
  {
   "cell_type": "code",
   "execution_count": 84,
   "metadata": {},
   "outputs": [
    {
     "data": {
      "text/html": [
       "<div>\n",
       "<style scoped>\n",
       "    .dataframe tbody tr th:only-of-type {\n",
       "        vertical-align: middle;\n",
       "    }\n",
       "\n",
       "    .dataframe tbody tr th {\n",
       "        vertical-align: top;\n",
       "    }\n",
       "\n",
       "    .dataframe thead th {\n",
       "        text-align: right;\n",
       "    }\n",
       "</style>\n",
       "<table border=\"1\" class=\"dataframe\">\n",
       "  <thead>\n",
       "    <tr style=\"text-align: right;\">\n",
       "      <th></th>\n",
       "      <th>post_id</th>\n",
       "      <th>title</th>\n",
       "      <th>description</th>\n",
       "      <th>tags</th>\n",
       "      <th>image_url</th>\n",
       "      <th>created_at</th>\n",
       "      <th>updated_at</th>\n",
       "    </tr>\n",
       "  </thead>\n",
       "  <tbody>\n",
       "    <tr>\n",
       "      <th>4</th>\n",
       "      <td>761</td>\n",
       "      <td>Merry Christmas 🎄🎁🤶☃️</td>\n",
       "      <td>Educational Resources for Kids</td>\n",
       "      <td>Family and Parenting</td>\n",
       "      <td>https://testinglive-backend.s3.af-south-1.amaz...</td>\n",
       "      <td>2024-12-27T08:22:54.000000Z</td>\n",
       "      <td>2024-12-30T14:50:42.000000Z</td>\n",
       "    </tr>\n",
       "    <tr>\n",
       "      <th>6</th>\n",
       "      <td>755</td>\n",
       "      <td>DEVAFO IN THE BUILDING!</td>\n",
       "      <td>Business Networking, Jewelry Making</td>\n",
       "      <td>Business and Entrepreneurship, Creative Arts a...</td>\n",
       "      <td>https://testinglive-backend.s3.af-south-1.amaz...</td>\n",
       "      <td>2024-12-19T19:11:37.000000Z</td>\n",
       "      <td>2024-12-30T14:50:12.000000Z</td>\n",
       "    </tr>\n",
       "    <tr>\n",
       "      <th>7</th>\n",
       "      <td>753</td>\n",
       "      <td>Who is ready for a trip to Dubai? #Dubai #Trip...</td>\n",
       "      <td>Comedy, Anime and Manga, New Parents, Single P...</td>\n",
       "      <td>Entertainment, Entertainment, Family and Paren...</td>\n",
       "      <td>https://testinglive-backend.s3.af-south-1.amaz...</td>\n",
       "      <td>2024-12-18T23:38:54.000000Z</td>\n",
       "      <td>2024-12-30T15:06:38.000000Z</td>\n",
       "    </tr>\n",
       "    <tr>\n",
       "      <th>9</th>\n",
       "      <td>751</td>\n",
       "      <td>#seawave</td>\n",
       "      <td>Theater and Performing Arts, Jewelry Making</td>\n",
       "      <td>Arts and Culture, Creative Arts and Crafts</td>\n",
       "      <td>https://testinglive-backend.s3.af-south-1.amaz...</td>\n",
       "      <td>2024-12-11T11:29:11.000000Z</td>\n",
       "      <td>2024-12-30T14:38:13.000000Z</td>\n",
       "    </tr>\n",
       "    <tr>\n",
       "      <th>12</th>\n",
       "      <td>747</td>\n",
       "      <td>I'll Update you when i get to UnionTown</td>\n",
       "      <td>Theater and Performing Arts, Fan Clubs (e.g. s...</td>\n",
       "      <td>Arts and Culture, Entertainment</td>\n",
       "      <td>https://testinglive-backend.s3.af-south-1.amaz...</td>\n",
       "      <td>2024-12-09T14:41:12.000000Z</td>\n",
       "      <td>2024-12-30T14:38:11.000000Z</td>\n",
       "    </tr>\n",
       "  </tbody>\n",
       "</table>\n",
       "</div>"
      ],
      "text/plain": [
       "    post_id                                              title  \\\n",
       "4       761                              Merry Christmas 🎄🎁🤶☃️   \n",
       "6       755                            DEVAFO IN THE BUILDING!   \n",
       "7       753  Who is ready for a trip to Dubai? #Dubai #Trip...   \n",
       "9       751                                           #seawave   \n",
       "12      747            I'll Update you when i get to UnionTown   \n",
       "\n",
       "                                          description  \\\n",
       "4                      Educational Resources for Kids   \n",
       "6                 Business Networking, Jewelry Making   \n",
       "7   Comedy, Anime and Manga, New Parents, Single P...   \n",
       "9         Theater and Performing Arts, Jewelry Making   \n",
       "12  Theater and Performing Arts, Fan Clubs (e.g. s...   \n",
       "\n",
       "                                                 tags  \\\n",
       "4                                Family and Parenting   \n",
       "6   Business and Entrepreneurship, Creative Arts a...   \n",
       "7   Entertainment, Entertainment, Family and Paren...   \n",
       "9          Arts and Culture, Creative Arts and Crafts   \n",
       "12                    Arts and Culture, Entertainment   \n",
       "\n",
       "                                            image_url  \\\n",
       "4   https://testinglive-backend.s3.af-south-1.amaz...   \n",
       "6   https://testinglive-backend.s3.af-south-1.amaz...   \n",
       "7   https://testinglive-backend.s3.af-south-1.amaz...   \n",
       "9   https://testinglive-backend.s3.af-south-1.amaz...   \n",
       "12  https://testinglive-backend.s3.af-south-1.amaz...   \n",
       "\n",
       "                     created_at                   updated_at  \n",
       "4   2024-12-27T08:22:54.000000Z  2024-12-30T14:50:42.000000Z  \n",
       "6   2024-12-19T19:11:37.000000Z  2024-12-30T14:50:12.000000Z  \n",
       "7   2024-12-18T23:38:54.000000Z  2024-12-30T15:06:38.000000Z  \n",
       "9   2024-12-11T11:29:11.000000Z  2024-12-30T14:38:13.000000Z  \n",
       "12  2024-12-09T14:41:12.000000Z  2024-12-30T14:38:11.000000Z  "
      ]
     },
     "execution_count": 84,
     "metadata": {},
     "output_type": "execute_result"
    }
   ],
   "source": [
    "new_df.head()"
   ]
  },
  {
   "cell_type": "code",
   "execution_count": 85,
   "metadata": {},
   "outputs": [],
   "source": [
    "def remove_spaces_in_elements(s):\n",
    "    # Split the string by commas\n",
    "    elements = s.split(',')\n",
    "    \n",
    "    # Remove spaces inside each element but leave the spaces between elements intact\n",
    "    cleaned_elements = [element.replace(\" \", \"\") for element in elements]\n",
    "    \n",
    "    # Join the elements back into a comma-separated string with a single space between them\n",
    "    return ', '.join(cleaned_elements)"
   ]
  },
  {
   "cell_type": "code",
   "execution_count": 87,
   "metadata": {},
   "outputs": [
    {
     "name": "stderr",
     "output_type": "stream",
     "text": [
      "C:\\Users\\ATISHKUMAR\\AppData\\Local\\Temp\\ipykernel_5728\\513446895.py:1: SettingWithCopyWarning: \n",
      "A value is trying to be set on a copy of a slice from a DataFrame.\n",
      "Try using .loc[row_indexer,col_indexer] = value instead\n",
      "\n",
      "See the caveats in the documentation: https://pandas.pydata.org/pandas-docs/stable/user_guide/indexing.html#returning-a-view-versus-a-copy\n",
      "  new_df['title']=new_df['title'].apply(remove_spaces_in_elements)\n"
     ]
    }
   ],
   "source": [
    "new_df['title']=new_df['title'].apply(remove_spaces_in_elements)"
   ]
  },
  {
   "cell_type": "code",
   "execution_count": 88,
   "metadata": {},
   "outputs": [
    {
     "name": "stderr",
     "output_type": "stream",
     "text": [
      "C:\\Users\\ATISHKUMAR\\AppData\\Local\\Temp\\ipykernel_5728\\2164998900.py:1: SettingWithCopyWarning: \n",
      "A value is trying to be set on a copy of a slice from a DataFrame.\n",
      "Try using .loc[row_indexer,col_indexer] = value instead\n",
      "\n",
      "See the caveats in the documentation: https://pandas.pydata.org/pandas-docs/stable/user_guide/indexing.html#returning-a-view-versus-a-copy\n",
      "  new_df['description']=new_df['description'].apply(remove_spaces_in_elements)\n"
     ]
    }
   ],
   "source": [
    "new_df['description']=new_df['description'].apply(remove_spaces_in_elements)"
   ]
  },
  {
   "cell_type": "code",
   "execution_count": 89,
   "metadata": {},
   "outputs": [
    {
     "name": "stderr",
     "output_type": "stream",
     "text": [
      "C:\\Users\\ATISHKUMAR\\AppData\\Local\\Temp\\ipykernel_5728\\1756267487.py:1: SettingWithCopyWarning: \n",
      "A value is trying to be set on a copy of a slice from a DataFrame.\n",
      "Try using .loc[row_indexer,col_indexer] = value instead\n",
      "\n",
      "See the caveats in the documentation: https://pandas.pydata.org/pandas-docs/stable/user_guide/indexing.html#returning-a-view-versus-a-copy\n",
      "  new_df['tags']=new_df['tags'].apply(remove_spaces_in_elements)\n"
     ]
    }
   ],
   "source": [
    "new_df['tags']=new_df['tags'].apply(remove_spaces_in_elements)\n"
   ]
  },
  {
   "cell_type": "code",
   "execution_count": null,
   "metadata": {},
   "outputs": [],
   "source": [
    "new_df['location']=new_df['location'].fillna(' ')"
   ]
  },
  {
   "cell_type": "code",
   "execution_count": null,
   "metadata": {},
   "outputs": [],
   "source": [
    "new_df['location']=new_df['location'].apply(remove_spaces_in_elements)"
   ]
  },
  {
   "cell_type": "code",
   "execution_count": 91,
   "metadata": {},
   "outputs": [],
   "source": [
    "new_df.to_csv(\"pilot_data_preprocessed_new.csv\")"
   ]
  },
  {
   "cell_type": "code",
   "execution_count": 92,
   "metadata": {},
   "outputs": [],
   "source": [
    "def string_to_list(input_str):\n",
    "    # Split the string by commas and remove any leading/trailing spaces\n",
    "    return [item.strip() for item in input_str.split(',')]"
   ]
  },
  {
   "cell_type": "code",
   "execution_count": 93,
   "metadata": {},
   "outputs": [
    {
     "name": "stderr",
     "output_type": "stream",
     "text": [
      "C:\\Users\\ATISHKUMAR\\AppData\\Local\\Temp\\ipykernel_5728\\675077498.py:1: SettingWithCopyWarning: \n",
      "A value is trying to be set on a copy of a slice from a DataFrame.\n",
      "Try using .loc[row_indexer,col_indexer] = value instead\n",
      "\n",
      "See the caveats in the documentation: https://pandas.pydata.org/pandas-docs/stable/user_guide/indexing.html#returning-a-view-versus-a-copy\n",
      "  new_df['tags']=new_df['tags'].apply(string_to_list)\n"
     ]
    }
   ],
   "source": [
    "new_df['tags']=new_df['tags'].apply(string_to_list)"
   ]
  },
  {
   "cell_type": "code",
   "execution_count": 94,
   "metadata": {},
   "outputs": [
    {
     "name": "stderr",
     "output_type": "stream",
     "text": [
      "C:\\Users\\ATISHKUMAR\\AppData\\Local\\Temp\\ipykernel_5728\\3727513529.py:1: SettingWithCopyWarning: \n",
      "A value is trying to be set on a copy of a slice from a DataFrame.\n",
      "Try using .loc[row_indexer,col_indexer] = value instead\n",
      "\n",
      "See the caveats in the documentation: https://pandas.pydata.org/pandas-docs/stable/user_guide/indexing.html#returning-a-view-versus-a-copy\n",
      "  new_df['title'] = new_df['title'].apply(lambda x:x.split())\n",
      "C:\\Users\\ATISHKUMAR\\AppData\\Local\\Temp\\ipykernel_5728\\3727513529.py:2: SettingWithCopyWarning: \n",
      "A value is trying to be set on a copy of a slice from a DataFrame.\n",
      "Try using .loc[row_indexer,col_indexer] = value instead\n",
      "\n",
      "See the caveats in the documentation: https://pandas.pydata.org/pandas-docs/stable/user_guide/indexing.html#returning-a-view-versus-a-copy\n",
      "  new_df['description']=new_df['description'].apply(string_to_list)\n"
     ]
    }
   ],
   "source": [
    "new_df['title'] = new_df['title'].apply(lambda x:x.split())\n",
    "new_df['description']=new_df['description'].apply(string_to_list)"
   ]
  },
  {
   "cell_type": "code",
   "execution_count": 105,
   "metadata": {},
   "outputs": [
    {
     "name": "stderr",
     "output_type": "stream",
     "text": [
      "/tmp/ipykernel_1255594/250503244.py:1: SettingWithCopyWarning: \n",
      "A value is trying to be set on a copy of a slice from a DataFrame.\n",
      "Try using .loc[row_indexer,col_indexer] = value instead\n",
      "\n",
      "See the caveats in the documentation: https://pandas.pydata.org/pandas-docs/stable/user_guide/indexing.html#returning-a-view-versus-a-copy\n",
      "  new_df['location']=new_df['location'].apply(lambda x: [x] if isinstance(x, str) else [])\n"
     ]
    }
   ],
   "source": [
    "new_df['location']=new_df['location'].apply(lambda x: [x] if isinstance(x, str) else [])"
   ]
  },
  {
   "cell_type": "code",
   "execution_count": 95,
   "metadata": {},
   "outputs": [
    {
     "data": {
      "text/html": [
       "<div>\n",
       "<style scoped>\n",
       "    .dataframe tbody tr th:only-of-type {\n",
       "        vertical-align: middle;\n",
       "    }\n",
       "\n",
       "    .dataframe tbody tr th {\n",
       "        vertical-align: top;\n",
       "    }\n",
       "\n",
       "    .dataframe thead th {\n",
       "        text-align: right;\n",
       "    }\n",
       "</style>\n",
       "<table border=\"1\" class=\"dataframe\">\n",
       "  <thead>\n",
       "    <tr style=\"text-align: right;\">\n",
       "      <th></th>\n",
       "      <th>post_id</th>\n",
       "      <th>title</th>\n",
       "      <th>description</th>\n",
       "      <th>tags</th>\n",
       "      <th>image_url</th>\n",
       "      <th>created_at</th>\n",
       "      <th>updated_at</th>\n",
       "    </tr>\n",
       "  </thead>\n",
       "  <tbody>\n",
       "    <tr>\n",
       "      <th>4</th>\n",
       "      <td>761</td>\n",
       "      <td>[MerryChristmas🎄🎁🤶☃️]</td>\n",
       "      <td>[EducationalResourcesforKids]</td>\n",
       "      <td>[FamilyandParenting]</td>\n",
       "      <td>https://testinglive-backend.s3.af-south-1.amaz...</td>\n",
       "      <td>2024-12-27T08:22:54.000000Z</td>\n",
       "      <td>2024-12-30T14:50:42.000000Z</td>\n",
       "    </tr>\n",
       "    <tr>\n",
       "      <th>6</th>\n",
       "      <td>755</td>\n",
       "      <td>[DEVAFOINTHEBUILDING!]</td>\n",
       "      <td>[BusinessNetworking, JewelryMaking]</td>\n",
       "      <td>[BusinessandEntrepreneurship, CreativeArtsandC...</td>\n",
       "      <td>https://testinglive-backend.s3.af-south-1.amaz...</td>\n",
       "      <td>2024-12-19T19:11:37.000000Z</td>\n",
       "      <td>2024-12-30T14:50:12.000000Z</td>\n",
       "    </tr>\n",
       "    <tr>\n",
       "      <th>7</th>\n",
       "      <td>753</td>\n",
       "      <td>[WhoisreadyforatriptoDubai?#Dubai#Tripplanner]</td>\n",
       "      <td>[Comedy, AnimeandManga, NewParents, SinglePare...</td>\n",
       "      <td>[Entertainment, Entertainment, FamilyandParent...</td>\n",
       "      <td>https://testinglive-backend.s3.af-south-1.amaz...</td>\n",
       "      <td>2024-12-18T23:38:54.000000Z</td>\n",
       "      <td>2024-12-30T15:06:38.000000Z</td>\n",
       "    </tr>\n",
       "    <tr>\n",
       "      <th>9</th>\n",
       "      <td>751</td>\n",
       "      <td>[#seawave]</td>\n",
       "      <td>[TheaterandPerformingArts, JewelryMaking]</td>\n",
       "      <td>[ArtsandCulture, CreativeArtsandCrafts]</td>\n",
       "      <td>https://testinglive-backend.s3.af-south-1.amaz...</td>\n",
       "      <td>2024-12-11T11:29:11.000000Z</td>\n",
       "      <td>2024-12-30T14:38:13.000000Z</td>\n",
       "    </tr>\n",
       "    <tr>\n",
       "      <th>12</th>\n",
       "      <td>747</td>\n",
       "      <td>[I'llUpdateyouwhenigettoUnionTown]</td>\n",
       "      <td>[TheaterandPerformingArts, FanClubs(e.g.specif...</td>\n",
       "      <td>[ArtsandCulture, Entertainment]</td>\n",
       "      <td>https://testinglive-backend.s3.af-south-1.amaz...</td>\n",
       "      <td>2024-12-09T14:41:12.000000Z</td>\n",
       "      <td>2024-12-30T14:38:11.000000Z</td>\n",
       "    </tr>\n",
       "  </tbody>\n",
       "</table>\n",
       "</div>"
      ],
      "text/plain": [
       "    post_id                                           title  \\\n",
       "4       761                           [MerryChristmas🎄🎁🤶☃️]   \n",
       "6       755                          [DEVAFOINTHEBUILDING!]   \n",
       "7       753  [WhoisreadyforatriptoDubai?#Dubai#Tripplanner]   \n",
       "9       751                                      [#seawave]   \n",
       "12      747              [I'llUpdateyouwhenigettoUnionTown]   \n",
       "\n",
       "                                          description  \\\n",
       "4                       [EducationalResourcesforKids]   \n",
       "6                 [BusinessNetworking, JewelryMaking]   \n",
       "7   [Comedy, AnimeandManga, NewParents, SinglePare...   \n",
       "9           [TheaterandPerformingArts, JewelryMaking]   \n",
       "12  [TheaterandPerformingArts, FanClubs(e.g.specif...   \n",
       "\n",
       "                                                 tags  \\\n",
       "4                                [FamilyandParenting]   \n",
       "6   [BusinessandEntrepreneurship, CreativeArtsandC...   \n",
       "7   [Entertainment, Entertainment, FamilyandParent...   \n",
       "9             [ArtsandCulture, CreativeArtsandCrafts]   \n",
       "12                    [ArtsandCulture, Entertainment]   \n",
       "\n",
       "                                            image_url  \\\n",
       "4   https://testinglive-backend.s3.af-south-1.amaz...   \n",
       "6   https://testinglive-backend.s3.af-south-1.amaz...   \n",
       "7   https://testinglive-backend.s3.af-south-1.amaz...   \n",
       "9   https://testinglive-backend.s3.af-south-1.amaz...   \n",
       "12  https://testinglive-backend.s3.af-south-1.amaz...   \n",
       "\n",
       "                     created_at                   updated_at  \n",
       "4   2024-12-27T08:22:54.000000Z  2024-12-30T14:50:42.000000Z  \n",
       "6   2024-12-19T19:11:37.000000Z  2024-12-30T14:50:12.000000Z  \n",
       "7   2024-12-18T23:38:54.000000Z  2024-12-30T15:06:38.000000Z  \n",
       "9   2024-12-11T11:29:11.000000Z  2024-12-30T14:38:13.000000Z  \n",
       "12  2024-12-09T14:41:12.000000Z  2024-12-30T14:38:11.000000Z  "
      ]
     },
     "execution_count": 95,
     "metadata": {},
     "output_type": "execute_result"
    }
   ],
   "source": [
    "new_df.head()"
   ]
  },
  {
   "cell_type": "code",
   "execution_count": 96,
   "metadata": {},
   "outputs": [],
   "source": [
    "def remove_spaces(L):\n",
    "    L1 = []\n",
    "    for i in L:\n",
    "        L1.append(i.replace(\" \",\"\"))\n",
    "    return L1"
   ]
  },
  {
   "cell_type": "code",
   "execution_count": 97,
   "metadata": {},
   "outputs": [
    {
     "name": "stderr",
     "output_type": "stream",
     "text": [
      "C:\\Users\\ATISHKUMAR\\AppData\\Local\\Temp\\ipykernel_5728\\3533779840.py:1: SettingWithCopyWarning: \n",
      "A value is trying to be set on a copy of a slice from a DataFrame.\n",
      "Try using .loc[row_indexer,col_indexer] = value instead\n",
      "\n",
      "See the caveats in the documentation: https://pandas.pydata.org/pandas-docs/stable/user_guide/indexing.html#returning-a-view-versus-a-copy\n",
      "  new_df['tags'] = new_df['tags'].apply(remove_spaces)\n",
      "C:\\Users\\ATISHKUMAR\\AppData\\Local\\Temp\\ipykernel_5728\\3533779840.py:2: SettingWithCopyWarning: \n",
      "A value is trying to be set on a copy of a slice from a DataFrame.\n",
      "Try using .loc[row_indexer,col_indexer] = value instead\n",
      "\n",
      "See the caveats in the documentation: https://pandas.pydata.org/pandas-docs/stable/user_guide/indexing.html#returning-a-view-versus-a-copy\n",
      "  new_df['description']=new_df['description'].apply(remove_spaces)\n"
     ]
    }
   ],
   "source": [
    "new_df['tags'] = new_df['tags'].apply(remove_spaces)\n",
    "new_df['description']=new_df['description'].apply(remove_spaces)\n"
   ]
  },
  {
   "cell_type": "code",
   "execution_count": 98,
   "metadata": {},
   "outputs": [
    {
     "data": {
      "text/html": [
       "<div>\n",
       "<style scoped>\n",
       "    .dataframe tbody tr th:only-of-type {\n",
       "        vertical-align: middle;\n",
       "    }\n",
       "\n",
       "    .dataframe tbody tr th {\n",
       "        vertical-align: top;\n",
       "    }\n",
       "\n",
       "    .dataframe thead th {\n",
       "        text-align: right;\n",
       "    }\n",
       "</style>\n",
       "<table border=\"1\" class=\"dataframe\">\n",
       "  <thead>\n",
       "    <tr style=\"text-align: right;\">\n",
       "      <th></th>\n",
       "      <th>post_id</th>\n",
       "      <th>title</th>\n",
       "      <th>description</th>\n",
       "      <th>tags</th>\n",
       "      <th>image_url</th>\n",
       "      <th>created_at</th>\n",
       "      <th>updated_at</th>\n",
       "    </tr>\n",
       "  </thead>\n",
       "  <tbody>\n",
       "    <tr>\n",
       "      <th>4</th>\n",
       "      <td>761</td>\n",
       "      <td>[MerryChristmas🎄🎁🤶☃️]</td>\n",
       "      <td>[EducationalResourcesforKids]</td>\n",
       "      <td>[FamilyandParenting]</td>\n",
       "      <td>https://testinglive-backend.s3.af-south-1.amaz...</td>\n",
       "      <td>2024-12-27T08:22:54.000000Z</td>\n",
       "      <td>2024-12-30T14:50:42.000000Z</td>\n",
       "    </tr>\n",
       "    <tr>\n",
       "      <th>6</th>\n",
       "      <td>755</td>\n",
       "      <td>[DEVAFOINTHEBUILDING!]</td>\n",
       "      <td>[BusinessNetworking, JewelryMaking]</td>\n",
       "      <td>[BusinessandEntrepreneurship, CreativeArtsandC...</td>\n",
       "      <td>https://testinglive-backend.s3.af-south-1.amaz...</td>\n",
       "      <td>2024-12-19T19:11:37.000000Z</td>\n",
       "      <td>2024-12-30T14:50:12.000000Z</td>\n",
       "    </tr>\n",
       "    <tr>\n",
       "      <th>7</th>\n",
       "      <td>753</td>\n",
       "      <td>[WhoisreadyforatriptoDubai?#Dubai#Tripplanner]</td>\n",
       "      <td>[Comedy, AnimeandManga, NewParents, SinglePare...</td>\n",
       "      <td>[Entertainment, Entertainment, FamilyandParent...</td>\n",
       "      <td>https://testinglive-backend.s3.af-south-1.amaz...</td>\n",
       "      <td>2024-12-18T23:38:54.000000Z</td>\n",
       "      <td>2024-12-30T15:06:38.000000Z</td>\n",
       "    </tr>\n",
       "    <tr>\n",
       "      <th>9</th>\n",
       "      <td>751</td>\n",
       "      <td>[#seawave]</td>\n",
       "      <td>[TheaterandPerformingArts, JewelryMaking]</td>\n",
       "      <td>[ArtsandCulture, CreativeArtsandCrafts]</td>\n",
       "      <td>https://testinglive-backend.s3.af-south-1.amaz...</td>\n",
       "      <td>2024-12-11T11:29:11.000000Z</td>\n",
       "      <td>2024-12-30T14:38:13.000000Z</td>\n",
       "    </tr>\n",
       "    <tr>\n",
       "      <th>12</th>\n",
       "      <td>747</td>\n",
       "      <td>[I'llUpdateyouwhenigettoUnionTown]</td>\n",
       "      <td>[TheaterandPerformingArts, FanClubs(e.g.specif...</td>\n",
       "      <td>[ArtsandCulture, Entertainment]</td>\n",
       "      <td>https://testinglive-backend.s3.af-south-1.amaz...</td>\n",
       "      <td>2024-12-09T14:41:12.000000Z</td>\n",
       "      <td>2024-12-30T14:38:11.000000Z</td>\n",
       "    </tr>\n",
       "  </tbody>\n",
       "</table>\n",
       "</div>"
      ],
      "text/plain": [
       "    post_id                                           title  \\\n",
       "4       761                           [MerryChristmas🎄🎁🤶☃️]   \n",
       "6       755                          [DEVAFOINTHEBUILDING!]   \n",
       "7       753  [WhoisreadyforatriptoDubai?#Dubai#Tripplanner]   \n",
       "9       751                                      [#seawave]   \n",
       "12      747              [I'llUpdateyouwhenigettoUnionTown]   \n",
       "\n",
       "                                          description  \\\n",
       "4                       [EducationalResourcesforKids]   \n",
       "6                 [BusinessNetworking, JewelryMaking]   \n",
       "7   [Comedy, AnimeandManga, NewParents, SinglePare...   \n",
       "9           [TheaterandPerformingArts, JewelryMaking]   \n",
       "12  [TheaterandPerformingArts, FanClubs(e.g.specif...   \n",
       "\n",
       "                                                 tags  \\\n",
       "4                                [FamilyandParenting]   \n",
       "6   [BusinessandEntrepreneurship, CreativeArtsandC...   \n",
       "7   [Entertainment, Entertainment, FamilyandParent...   \n",
       "9             [ArtsandCulture, CreativeArtsandCrafts]   \n",
       "12                    [ArtsandCulture, Entertainment]   \n",
       "\n",
       "                                            image_url  \\\n",
       "4   https://testinglive-backend.s3.af-south-1.amaz...   \n",
       "6   https://testinglive-backend.s3.af-south-1.amaz...   \n",
       "7   https://testinglive-backend.s3.af-south-1.amaz...   \n",
       "9   https://testinglive-backend.s3.af-south-1.amaz...   \n",
       "12  https://testinglive-backend.s3.af-south-1.amaz...   \n",
       "\n",
       "                     created_at                   updated_at  \n",
       "4   2024-12-27T08:22:54.000000Z  2024-12-30T14:50:42.000000Z  \n",
       "6   2024-12-19T19:11:37.000000Z  2024-12-30T14:50:12.000000Z  \n",
       "7   2024-12-18T23:38:54.000000Z  2024-12-30T15:06:38.000000Z  \n",
       "9   2024-12-11T11:29:11.000000Z  2024-12-30T14:38:13.000000Z  \n",
       "12  2024-12-09T14:41:12.000000Z  2024-12-30T14:38:11.000000Z  "
      ]
     },
     "execution_count": 98,
     "metadata": {},
     "output_type": "execute_result"
    }
   ],
   "source": [
    "new_df.head()"
   ]
  },
  {
   "cell_type": "code",
   "execution_count": 99,
   "metadata": {},
   "outputs": [
    {
     "name": "stdout",
     "output_type": "stream",
     "text": [
      "<class 'pandas.core.frame.DataFrame'>\n",
      "Index: 350 entries, 4 to 422\n",
      "Data columns (total 7 columns):\n",
      " #   Column       Non-Null Count  Dtype \n",
      "---  ------       --------------  ----- \n",
      " 0   post_id      350 non-null    int64 \n",
      " 1   title        350 non-null    object\n",
      " 2   description  350 non-null    object\n",
      " 3   tags         350 non-null    object\n",
      " 4   image_url    350 non-null    object\n",
      " 5   created_at   350 non-null    object\n",
      " 6   updated_at   350 non-null    object\n",
      "dtypes: int64(1), object(6)\n",
      "memory usage: 21.9+ KB\n"
     ]
    }
   ],
   "source": [
    "new_df.info()"
   ]
  },
  {
   "cell_type": "code",
   "execution_count": 100,
   "metadata": {},
   "outputs": [],
   "source": [
    "new_df.to_csv(\"pilot_data_preprocessed_new.csv\")"
   ]
  },
  {
   "cell_type": "markdown",
   "metadata": {},
   "source": [
    "# Combined text"
   ]
  },
  {
   "cell_type": "code",
   "execution_count": 101,
   "metadata": {},
   "outputs": [],
   "source": [
    "processed_df=pd.read_csv(\"pilot_data_preprocessed_new.csv\",index_col=False)"
   ]
  },
  {
   "cell_type": "code",
   "execution_count": 102,
   "metadata": {},
   "outputs": [
    {
     "data": {
      "text/html": [
       "<div>\n",
       "<style scoped>\n",
       "    .dataframe tbody tr th:only-of-type {\n",
       "        vertical-align: middle;\n",
       "    }\n",
       "\n",
       "    .dataframe tbody tr th {\n",
       "        vertical-align: top;\n",
       "    }\n",
       "\n",
       "    .dataframe thead th {\n",
       "        text-align: right;\n",
       "    }\n",
       "</style>\n",
       "<table border=\"1\" class=\"dataframe\">\n",
       "  <thead>\n",
       "    <tr style=\"text-align: right;\">\n",
       "      <th></th>\n",
       "      <th>Unnamed: 0</th>\n",
       "      <th>post_id</th>\n",
       "      <th>title</th>\n",
       "      <th>description</th>\n",
       "      <th>tags</th>\n",
       "      <th>image_url</th>\n",
       "      <th>created_at</th>\n",
       "      <th>updated_at</th>\n",
       "    </tr>\n",
       "  </thead>\n",
       "  <tbody>\n",
       "    <tr>\n",
       "      <th>0</th>\n",
       "      <td>4</td>\n",
       "      <td>761</td>\n",
       "      <td>['MerryChristmas🎄🎁🤶☃️']</td>\n",
       "      <td>['EducationalResourcesforKids']</td>\n",
       "      <td>['FamilyandParenting']</td>\n",
       "      <td>https://testinglive-backend.s3.af-south-1.amaz...</td>\n",
       "      <td>2024-12-27T08:22:54.000000Z</td>\n",
       "      <td>2024-12-30T14:50:42.000000Z</td>\n",
       "    </tr>\n",
       "    <tr>\n",
       "      <th>1</th>\n",
       "      <td>6</td>\n",
       "      <td>755</td>\n",
       "      <td>['DEVAFOINTHEBUILDING!']</td>\n",
       "      <td>['BusinessNetworking', 'JewelryMaking']</td>\n",
       "      <td>['BusinessandEntrepreneurship', 'CreativeArtsa...</td>\n",
       "      <td>https://testinglive-backend.s3.af-south-1.amaz...</td>\n",
       "      <td>2024-12-19T19:11:37.000000Z</td>\n",
       "      <td>2024-12-30T14:50:12.000000Z</td>\n",
       "    </tr>\n",
       "    <tr>\n",
       "      <th>2</th>\n",
       "      <td>7</td>\n",
       "      <td>753</td>\n",
       "      <td>['WhoisreadyforatriptoDubai?#Dubai#Tripplanner']</td>\n",
       "      <td>['Comedy', 'AnimeandManga', 'NewParents', 'Sin...</td>\n",
       "      <td>['Entertainment', 'Entertainment', 'FamilyandP...</td>\n",
       "      <td>https://testinglive-backend.s3.af-south-1.amaz...</td>\n",
       "      <td>2024-12-18T23:38:54.000000Z</td>\n",
       "      <td>2024-12-30T15:06:38.000000Z</td>\n",
       "    </tr>\n",
       "    <tr>\n",
       "      <th>3</th>\n",
       "      <td>9</td>\n",
       "      <td>751</td>\n",
       "      <td>['#seawave']</td>\n",
       "      <td>['TheaterandPerformingArts', 'JewelryMaking']</td>\n",
       "      <td>['ArtsandCulture', 'CreativeArtsandCrafts']</td>\n",
       "      <td>https://testinglive-backend.s3.af-south-1.amaz...</td>\n",
       "      <td>2024-12-11T11:29:11.000000Z</td>\n",
       "      <td>2024-12-30T14:38:13.000000Z</td>\n",
       "    </tr>\n",
       "    <tr>\n",
       "      <th>4</th>\n",
       "      <td>12</td>\n",
       "      <td>747</td>\n",
       "      <td>[\"I'llUpdateyouwhenigettoUnionTown\"]</td>\n",
       "      <td>['TheaterandPerformingArts', 'FanClubs(e.g.spe...</td>\n",
       "      <td>['ArtsandCulture', 'Entertainment']</td>\n",
       "      <td>https://testinglive-backend.s3.af-south-1.amaz...</td>\n",
       "      <td>2024-12-09T14:41:12.000000Z</td>\n",
       "      <td>2024-12-30T14:38:11.000000Z</td>\n",
       "    </tr>\n",
       "  </tbody>\n",
       "</table>\n",
       "</div>"
      ],
      "text/plain": [
       "   Unnamed: 0  post_id                                             title  \\\n",
       "0           4      761                           ['MerryChristmas🎄🎁🤶☃️']   \n",
       "1           6      755                          ['DEVAFOINTHEBUILDING!']   \n",
       "2           7      753  ['WhoisreadyforatriptoDubai?#Dubai#Tripplanner']   \n",
       "3           9      751                                      ['#seawave']   \n",
       "4          12      747              [\"I'llUpdateyouwhenigettoUnionTown\"]   \n",
       "\n",
       "                                         description  \\\n",
       "0                    ['EducationalResourcesforKids']   \n",
       "1            ['BusinessNetworking', 'JewelryMaking']   \n",
       "2  ['Comedy', 'AnimeandManga', 'NewParents', 'Sin...   \n",
       "3      ['TheaterandPerformingArts', 'JewelryMaking']   \n",
       "4  ['TheaterandPerformingArts', 'FanClubs(e.g.spe...   \n",
       "\n",
       "                                                tags  \\\n",
       "0                             ['FamilyandParenting']   \n",
       "1  ['BusinessandEntrepreneurship', 'CreativeArtsa...   \n",
       "2  ['Entertainment', 'Entertainment', 'FamilyandP...   \n",
       "3        ['ArtsandCulture', 'CreativeArtsandCrafts']   \n",
       "4                ['ArtsandCulture', 'Entertainment']   \n",
       "\n",
       "                                           image_url  \\\n",
       "0  https://testinglive-backend.s3.af-south-1.amaz...   \n",
       "1  https://testinglive-backend.s3.af-south-1.amaz...   \n",
       "2  https://testinglive-backend.s3.af-south-1.amaz...   \n",
       "3  https://testinglive-backend.s3.af-south-1.amaz...   \n",
       "4  https://testinglive-backend.s3.af-south-1.amaz...   \n",
       "\n",
       "                    created_at                   updated_at  \n",
       "0  2024-12-27T08:22:54.000000Z  2024-12-30T14:50:42.000000Z  \n",
       "1  2024-12-19T19:11:37.000000Z  2024-12-30T14:50:12.000000Z  \n",
       "2  2024-12-18T23:38:54.000000Z  2024-12-30T15:06:38.000000Z  \n",
       "3  2024-12-11T11:29:11.000000Z  2024-12-30T14:38:13.000000Z  \n",
       "4  2024-12-09T14:41:12.000000Z  2024-12-30T14:38:11.000000Z  "
      ]
     },
     "execution_count": 102,
     "metadata": {},
     "output_type": "execute_result"
    }
   ],
   "source": [
    "processed_df.head()"
   ]
  },
  {
   "cell_type": "code",
   "execution_count": 44,
   "metadata": {},
   "outputs": [],
   "source": [
    "import numpy as np"
   ]
  },
  {
   "cell_type": "markdown",
   "metadata": {},
   "source": [
    "{\"Post ID\":\"post_id\",\"Caption\":\"title\",\"Category Names\":\"description\",\"Country\":\"location\",\"Category Descriptions\":\"tags\", \"Image URL\":\"image_url\",\"Created At\":\"created_at\",\"Updated At\":\"updated_at\"}, inplace=True)"
   ]
  },
  {
   "cell_type": "code",
   "execution_count": 103,
   "metadata": {},
   "outputs": [],
   "source": [
    "processed_df['combined_text']=processed_df['title']+processed_df['description']+processed_df['tags']"
   ]
  },
  {
   "cell_type": "code",
   "execution_count": 104,
   "metadata": {},
   "outputs": [
    {
     "data": {
      "text/html": [
       "<div>\n",
       "<style scoped>\n",
       "    .dataframe tbody tr th:only-of-type {\n",
       "        vertical-align: middle;\n",
       "    }\n",
       "\n",
       "    .dataframe tbody tr th {\n",
       "        vertical-align: top;\n",
       "    }\n",
       "\n",
       "    .dataframe thead th {\n",
       "        text-align: right;\n",
       "    }\n",
       "</style>\n",
       "<table border=\"1\" class=\"dataframe\">\n",
       "  <thead>\n",
       "    <tr style=\"text-align: right;\">\n",
       "      <th></th>\n",
       "      <th>Unnamed: 0</th>\n",
       "      <th>post_id</th>\n",
       "      <th>title</th>\n",
       "      <th>description</th>\n",
       "      <th>tags</th>\n",
       "      <th>image_url</th>\n",
       "      <th>created_at</th>\n",
       "      <th>updated_at</th>\n",
       "      <th>combined_text</th>\n",
       "    </tr>\n",
       "  </thead>\n",
       "  <tbody>\n",
       "    <tr>\n",
       "      <th>0</th>\n",
       "      <td>4</td>\n",
       "      <td>761</td>\n",
       "      <td>['MerryChristmas🎄🎁🤶☃️']</td>\n",
       "      <td>['EducationalResourcesforKids']</td>\n",
       "      <td>['FamilyandParenting']</td>\n",
       "      <td>https://testinglive-backend.s3.af-south-1.amaz...</td>\n",
       "      <td>2024-12-27T08:22:54.000000Z</td>\n",
       "      <td>2024-12-30T14:50:42.000000Z</td>\n",
       "      <td>['MerryChristmas🎄🎁🤶☃️']['EducationalResourcesf...</td>\n",
       "    </tr>\n",
       "    <tr>\n",
       "      <th>1</th>\n",
       "      <td>6</td>\n",
       "      <td>755</td>\n",
       "      <td>['DEVAFOINTHEBUILDING!']</td>\n",
       "      <td>['BusinessNetworking', 'JewelryMaking']</td>\n",
       "      <td>['BusinessandEntrepreneurship', 'CreativeArtsa...</td>\n",
       "      <td>https://testinglive-backend.s3.af-south-1.amaz...</td>\n",
       "      <td>2024-12-19T19:11:37.000000Z</td>\n",
       "      <td>2024-12-30T14:50:12.000000Z</td>\n",
       "      <td>['DEVAFOINTHEBUILDING!']['BusinessNetworking',...</td>\n",
       "    </tr>\n",
       "    <tr>\n",
       "      <th>2</th>\n",
       "      <td>7</td>\n",
       "      <td>753</td>\n",
       "      <td>['WhoisreadyforatriptoDubai?#Dubai#Tripplanner']</td>\n",
       "      <td>['Comedy', 'AnimeandManga', 'NewParents', 'Sin...</td>\n",
       "      <td>['Entertainment', 'Entertainment', 'FamilyandP...</td>\n",
       "      <td>https://testinglive-backend.s3.af-south-1.amaz...</td>\n",
       "      <td>2024-12-18T23:38:54.000000Z</td>\n",
       "      <td>2024-12-30T15:06:38.000000Z</td>\n",
       "      <td>['WhoisreadyforatriptoDubai?#Dubai#Tripplanner...</td>\n",
       "    </tr>\n",
       "    <tr>\n",
       "      <th>3</th>\n",
       "      <td>9</td>\n",
       "      <td>751</td>\n",
       "      <td>['#seawave']</td>\n",
       "      <td>['TheaterandPerformingArts', 'JewelryMaking']</td>\n",
       "      <td>['ArtsandCulture', 'CreativeArtsandCrafts']</td>\n",
       "      <td>https://testinglive-backend.s3.af-south-1.amaz...</td>\n",
       "      <td>2024-12-11T11:29:11.000000Z</td>\n",
       "      <td>2024-12-30T14:38:13.000000Z</td>\n",
       "      <td>['#seawave']['TheaterandPerformingArts', 'Jewe...</td>\n",
       "    </tr>\n",
       "    <tr>\n",
       "      <th>4</th>\n",
       "      <td>12</td>\n",
       "      <td>747</td>\n",
       "      <td>[\"I'llUpdateyouwhenigettoUnionTown\"]</td>\n",
       "      <td>['TheaterandPerformingArts', 'FanClubs(e.g.spe...</td>\n",
       "      <td>['ArtsandCulture', 'Entertainment']</td>\n",
       "      <td>https://testinglive-backend.s3.af-south-1.amaz...</td>\n",
       "      <td>2024-12-09T14:41:12.000000Z</td>\n",
       "      <td>2024-12-30T14:38:11.000000Z</td>\n",
       "      <td>[\"I'llUpdateyouwhenigettoUnionTown\"]['Theatera...</td>\n",
       "    </tr>\n",
       "  </tbody>\n",
       "</table>\n",
       "</div>"
      ],
      "text/plain": [
       "   Unnamed: 0  post_id                                             title  \\\n",
       "0           4      761                           ['MerryChristmas🎄🎁🤶☃️']   \n",
       "1           6      755                          ['DEVAFOINTHEBUILDING!']   \n",
       "2           7      753  ['WhoisreadyforatriptoDubai?#Dubai#Tripplanner']   \n",
       "3           9      751                                      ['#seawave']   \n",
       "4          12      747              [\"I'llUpdateyouwhenigettoUnionTown\"]   \n",
       "\n",
       "                                         description  \\\n",
       "0                    ['EducationalResourcesforKids']   \n",
       "1            ['BusinessNetworking', 'JewelryMaking']   \n",
       "2  ['Comedy', 'AnimeandManga', 'NewParents', 'Sin...   \n",
       "3      ['TheaterandPerformingArts', 'JewelryMaking']   \n",
       "4  ['TheaterandPerformingArts', 'FanClubs(e.g.spe...   \n",
       "\n",
       "                                                tags  \\\n",
       "0                             ['FamilyandParenting']   \n",
       "1  ['BusinessandEntrepreneurship', 'CreativeArtsa...   \n",
       "2  ['Entertainment', 'Entertainment', 'FamilyandP...   \n",
       "3        ['ArtsandCulture', 'CreativeArtsandCrafts']   \n",
       "4                ['ArtsandCulture', 'Entertainment']   \n",
       "\n",
       "                                           image_url  \\\n",
       "0  https://testinglive-backend.s3.af-south-1.amaz...   \n",
       "1  https://testinglive-backend.s3.af-south-1.amaz...   \n",
       "2  https://testinglive-backend.s3.af-south-1.amaz...   \n",
       "3  https://testinglive-backend.s3.af-south-1.amaz...   \n",
       "4  https://testinglive-backend.s3.af-south-1.amaz...   \n",
       "\n",
       "                    created_at                   updated_at  \\\n",
       "0  2024-12-27T08:22:54.000000Z  2024-12-30T14:50:42.000000Z   \n",
       "1  2024-12-19T19:11:37.000000Z  2024-12-30T14:50:12.000000Z   \n",
       "2  2024-12-18T23:38:54.000000Z  2024-12-30T15:06:38.000000Z   \n",
       "3  2024-12-11T11:29:11.000000Z  2024-12-30T14:38:13.000000Z   \n",
       "4  2024-12-09T14:41:12.000000Z  2024-12-30T14:38:11.000000Z   \n",
       "\n",
       "                                       combined_text  \n",
       "0  ['MerryChristmas🎄🎁🤶☃️']['EducationalResourcesf...  \n",
       "1  ['DEVAFOINTHEBUILDING!']['BusinessNetworking',...  \n",
       "2  ['WhoisreadyforatriptoDubai?#Dubai#Tripplanner...  \n",
       "3  ['#seawave']['TheaterandPerformingArts', 'Jewe...  \n",
       "4  [\"I'llUpdateyouwhenigettoUnionTown\"]['Theatera...  "
      ]
     },
     "execution_count": 104,
     "metadata": {},
     "output_type": "execute_result"
    }
   ],
   "source": [
    "processed_df.head()"
   ]
  },
  {
   "cell_type": "code",
   "execution_count": 105,
   "metadata": {},
   "outputs": [
    {
     "name": "stdout",
     "output_type": "stream",
     "text": [
      "<class 'pandas.core.frame.DataFrame'>\n",
      "RangeIndex: 350 entries, 0 to 349\n",
      "Data columns (total 9 columns):\n",
      " #   Column         Non-Null Count  Dtype \n",
      "---  ------         --------------  ----- \n",
      " 0   Unnamed: 0     350 non-null    int64 \n",
      " 1   post_id        350 non-null    int64 \n",
      " 2   title          350 non-null    object\n",
      " 3   description    350 non-null    object\n",
      " 4   tags           350 non-null    object\n",
      " 5   image_url      350 non-null    object\n",
      " 6   created_at     350 non-null    object\n",
      " 7   updated_at     350 non-null    object\n",
      " 8   combined_text  350 non-null    object\n",
      "dtypes: int64(2), object(7)\n",
      "memory usage: 24.7+ KB\n"
     ]
    }
   ],
   "source": [
    "processed_df.info()"
   ]
  },
  {
   "cell_type": "code",
   "execution_count": 106,
   "metadata": {},
   "outputs": [],
   "source": [
    "import ast\n",
    "def clean_text(text):\n",
    "    try:\n",
    "        # Replace any invalid formatting (e.g., concatenated lists) with a space\n",
    "        text = text.replace('][', ', ')  # Fix concatenated lists like \"[]][\"\n",
    "        \n",
    "        # Safely convert the string representation of a list to an actual list\n",
    "        text_list = ast.literal_eval(text) if text else []\n",
    "\n",
    "        # If there are no elements in the list, return an empty string, but don't discard other valid parts\n",
    "        return ' '.join(text_list) if text_list else text\n",
    "    except (SyntaxError, ValueError):\n",
    "        # In case of parsing issues, return the original text (handling edge cases)\n",
    "        return text"
   ]
  },
  {
   "cell_type": "code",
   "execution_count": 107,
   "metadata": {},
   "outputs": [],
   "source": [
    "processed_df['combined_text']=processed_df['combined_text'].apply(clean_text)"
   ]
  },
  {
   "cell_type": "code",
   "execution_count": 108,
   "metadata": {},
   "outputs": [
    {
     "data": {
      "text/html": [
       "<div>\n",
       "<style scoped>\n",
       "    .dataframe tbody tr th:only-of-type {\n",
       "        vertical-align: middle;\n",
       "    }\n",
       "\n",
       "    .dataframe tbody tr th {\n",
       "        vertical-align: top;\n",
       "    }\n",
       "\n",
       "    .dataframe thead th {\n",
       "        text-align: right;\n",
       "    }\n",
       "</style>\n",
       "<table border=\"1\" class=\"dataframe\">\n",
       "  <thead>\n",
       "    <tr style=\"text-align: right;\">\n",
       "      <th></th>\n",
       "      <th>Unnamed: 0</th>\n",
       "      <th>post_id</th>\n",
       "      <th>title</th>\n",
       "      <th>description</th>\n",
       "      <th>tags</th>\n",
       "      <th>image_url</th>\n",
       "      <th>created_at</th>\n",
       "      <th>updated_at</th>\n",
       "      <th>combined_text</th>\n",
       "    </tr>\n",
       "  </thead>\n",
       "  <tbody>\n",
       "    <tr>\n",
       "      <th>0</th>\n",
       "      <td>4</td>\n",
       "      <td>761</td>\n",
       "      <td>['MerryChristmas🎄🎁🤶☃️']</td>\n",
       "      <td>['EducationalResourcesforKids']</td>\n",
       "      <td>['FamilyandParenting']</td>\n",
       "      <td>https://testinglive-backend.s3.af-south-1.amaz...</td>\n",
       "      <td>2024-12-27T08:22:54.000000Z</td>\n",
       "      <td>2024-12-30T14:50:42.000000Z</td>\n",
       "      <td>MerryChristmas🎄🎁🤶☃️ EducationalResourcesforKid...</td>\n",
       "    </tr>\n",
       "    <tr>\n",
       "      <th>1</th>\n",
       "      <td>6</td>\n",
       "      <td>755</td>\n",
       "      <td>['DEVAFOINTHEBUILDING!']</td>\n",
       "      <td>['BusinessNetworking', 'JewelryMaking']</td>\n",
       "      <td>['BusinessandEntrepreneurship', 'CreativeArtsa...</td>\n",
       "      <td>https://testinglive-backend.s3.af-south-1.amaz...</td>\n",
       "      <td>2024-12-19T19:11:37.000000Z</td>\n",
       "      <td>2024-12-30T14:50:12.000000Z</td>\n",
       "      <td>DEVAFOINTHEBUILDING! BusinessNetworking Jewelr...</td>\n",
       "    </tr>\n",
       "    <tr>\n",
       "      <th>2</th>\n",
       "      <td>7</td>\n",
       "      <td>753</td>\n",
       "      <td>['WhoisreadyforatriptoDubai?#Dubai#Tripplanner']</td>\n",
       "      <td>['Comedy', 'AnimeandManga', 'NewParents', 'Sin...</td>\n",
       "      <td>['Entertainment', 'Entertainment', 'FamilyandP...</td>\n",
       "      <td>https://testinglive-backend.s3.af-south-1.amaz...</td>\n",
       "      <td>2024-12-18T23:38:54.000000Z</td>\n",
       "      <td>2024-12-30T15:06:38.000000Z</td>\n",
       "      <td>WhoisreadyforatriptoDubai?#Dubai#Tripplanner C...</td>\n",
       "    </tr>\n",
       "    <tr>\n",
       "      <th>3</th>\n",
       "      <td>9</td>\n",
       "      <td>751</td>\n",
       "      <td>['#seawave']</td>\n",
       "      <td>['TheaterandPerformingArts', 'JewelryMaking']</td>\n",
       "      <td>['ArtsandCulture', 'CreativeArtsandCrafts']</td>\n",
       "      <td>https://testinglive-backend.s3.af-south-1.amaz...</td>\n",
       "      <td>2024-12-11T11:29:11.000000Z</td>\n",
       "      <td>2024-12-30T14:38:13.000000Z</td>\n",
       "      <td>#seawave TheaterandPerformingArts JewelryMakin...</td>\n",
       "    </tr>\n",
       "    <tr>\n",
       "      <th>4</th>\n",
       "      <td>12</td>\n",
       "      <td>747</td>\n",
       "      <td>[\"I'llUpdateyouwhenigettoUnionTown\"]</td>\n",
       "      <td>['TheaterandPerformingArts', 'FanClubs(e.g.spe...</td>\n",
       "      <td>['ArtsandCulture', 'Entertainment']</td>\n",
       "      <td>https://testinglive-backend.s3.af-south-1.amaz...</td>\n",
       "      <td>2024-12-09T14:41:12.000000Z</td>\n",
       "      <td>2024-12-30T14:38:11.000000Z</td>\n",
       "      <td>I'llUpdateyouwhenigettoUnionTown TheaterandPer...</td>\n",
       "    </tr>\n",
       "  </tbody>\n",
       "</table>\n",
       "</div>"
      ],
      "text/plain": [
       "   Unnamed: 0  post_id                                             title  \\\n",
       "0           4      761                           ['MerryChristmas🎄🎁🤶☃️']   \n",
       "1           6      755                          ['DEVAFOINTHEBUILDING!']   \n",
       "2           7      753  ['WhoisreadyforatriptoDubai?#Dubai#Tripplanner']   \n",
       "3           9      751                                      ['#seawave']   \n",
       "4          12      747              [\"I'llUpdateyouwhenigettoUnionTown\"]   \n",
       "\n",
       "                                         description  \\\n",
       "0                    ['EducationalResourcesforKids']   \n",
       "1            ['BusinessNetworking', 'JewelryMaking']   \n",
       "2  ['Comedy', 'AnimeandManga', 'NewParents', 'Sin...   \n",
       "3      ['TheaterandPerformingArts', 'JewelryMaking']   \n",
       "4  ['TheaterandPerformingArts', 'FanClubs(e.g.spe...   \n",
       "\n",
       "                                                tags  \\\n",
       "0                             ['FamilyandParenting']   \n",
       "1  ['BusinessandEntrepreneurship', 'CreativeArtsa...   \n",
       "2  ['Entertainment', 'Entertainment', 'FamilyandP...   \n",
       "3        ['ArtsandCulture', 'CreativeArtsandCrafts']   \n",
       "4                ['ArtsandCulture', 'Entertainment']   \n",
       "\n",
       "                                           image_url  \\\n",
       "0  https://testinglive-backend.s3.af-south-1.amaz...   \n",
       "1  https://testinglive-backend.s3.af-south-1.amaz...   \n",
       "2  https://testinglive-backend.s3.af-south-1.amaz...   \n",
       "3  https://testinglive-backend.s3.af-south-1.amaz...   \n",
       "4  https://testinglive-backend.s3.af-south-1.amaz...   \n",
       "\n",
       "                    created_at                   updated_at  \\\n",
       "0  2024-12-27T08:22:54.000000Z  2024-12-30T14:50:42.000000Z   \n",
       "1  2024-12-19T19:11:37.000000Z  2024-12-30T14:50:12.000000Z   \n",
       "2  2024-12-18T23:38:54.000000Z  2024-12-30T15:06:38.000000Z   \n",
       "3  2024-12-11T11:29:11.000000Z  2024-12-30T14:38:13.000000Z   \n",
       "4  2024-12-09T14:41:12.000000Z  2024-12-30T14:38:11.000000Z   \n",
       "\n",
       "                                       combined_text  \n",
       "0  MerryChristmas🎄🎁🤶☃️ EducationalResourcesforKid...  \n",
       "1  DEVAFOINTHEBUILDING! BusinessNetworking Jewelr...  \n",
       "2  WhoisreadyforatriptoDubai?#Dubai#Tripplanner C...  \n",
       "3  #seawave TheaterandPerformingArts JewelryMakin...  \n",
       "4  I'llUpdateyouwhenigettoUnionTown TheaterandPer...  "
      ]
     },
     "execution_count": 108,
     "metadata": {},
     "output_type": "execute_result"
    }
   ],
   "source": [
    "processed_df.head()"
   ]
  },
  {
   "cell_type": "code",
   "execution_count": 109,
   "metadata": {},
   "outputs": [
    {
     "data": {
      "text/plain": [
       "'justfortesting InvestmentandVentureCapital BusinessandEntrepreneurship'"
      ]
     },
     "execution_count": 109,
     "metadata": {},
     "output_type": "execute_result"
    }
   ],
   "source": [
    "processed_df['combined_text'][22]"
   ]
  },
  {
   "cell_type": "code",
   "execution_count": 110,
   "metadata": {},
   "outputs": [],
   "source": [
    "processed_df['combined_text'] = processed_df['combined_text'].apply(lambda x: \",\".join(x))"
   ]
  },
  {
   "cell_type": "code",
   "execution_count": 111,
   "metadata": {},
   "outputs": [
    {
     "data": {
      "text/html": [
       "<div>\n",
       "<style scoped>\n",
       "    .dataframe tbody tr th:only-of-type {\n",
       "        vertical-align: middle;\n",
       "    }\n",
       "\n",
       "    .dataframe tbody tr th {\n",
       "        vertical-align: top;\n",
       "    }\n",
       "\n",
       "    .dataframe thead th {\n",
       "        text-align: right;\n",
       "    }\n",
       "</style>\n",
       "<table border=\"1\" class=\"dataframe\">\n",
       "  <thead>\n",
       "    <tr style=\"text-align: right;\">\n",
       "      <th></th>\n",
       "      <th>Unnamed: 0</th>\n",
       "      <th>post_id</th>\n",
       "      <th>title</th>\n",
       "      <th>description</th>\n",
       "      <th>tags</th>\n",
       "      <th>image_url</th>\n",
       "      <th>created_at</th>\n",
       "      <th>updated_at</th>\n",
       "      <th>combined_text</th>\n",
       "    </tr>\n",
       "  </thead>\n",
       "  <tbody>\n",
       "    <tr>\n",
       "      <th>0</th>\n",
       "      <td>4</td>\n",
       "      <td>761</td>\n",
       "      <td>['MerryChristmas🎄🎁🤶☃️']</td>\n",
       "      <td>['EducationalResourcesforKids']</td>\n",
       "      <td>['FamilyandParenting']</td>\n",
       "      <td>https://testinglive-backend.s3.af-south-1.amaz...</td>\n",
       "      <td>2024-12-27T08:22:54.000000Z</td>\n",
       "      <td>2024-12-30T14:50:42.000000Z</td>\n",
       "      <td>M,e,r,r,y,C,h,r,i,s,t,m,a,s,🎄,🎁,🤶,☃,️, ,E,d,u,...</td>\n",
       "    </tr>\n",
       "    <tr>\n",
       "      <th>1</th>\n",
       "      <td>6</td>\n",
       "      <td>755</td>\n",
       "      <td>['DEVAFOINTHEBUILDING!']</td>\n",
       "      <td>['BusinessNetworking', 'JewelryMaking']</td>\n",
       "      <td>['BusinessandEntrepreneurship', 'CreativeArtsa...</td>\n",
       "      <td>https://testinglive-backend.s3.af-south-1.amaz...</td>\n",
       "      <td>2024-12-19T19:11:37.000000Z</td>\n",
       "      <td>2024-12-30T14:50:12.000000Z</td>\n",
       "      <td>D,E,V,A,F,O,I,N,T,H,E,B,U,I,L,D,I,N,G,!, ,B,u,...</td>\n",
       "    </tr>\n",
       "    <tr>\n",
       "      <th>2</th>\n",
       "      <td>7</td>\n",
       "      <td>753</td>\n",
       "      <td>['WhoisreadyforatriptoDubai?#Dubai#Tripplanner']</td>\n",
       "      <td>['Comedy', 'AnimeandManga', 'NewParents', 'Sin...</td>\n",
       "      <td>['Entertainment', 'Entertainment', 'FamilyandP...</td>\n",
       "      <td>https://testinglive-backend.s3.af-south-1.amaz...</td>\n",
       "      <td>2024-12-18T23:38:54.000000Z</td>\n",
       "      <td>2024-12-30T15:06:38.000000Z</td>\n",
       "      <td>W,h,o,i,s,r,e,a,d,y,f,o,r,a,t,r,i,p,t,o,D,u,b,...</td>\n",
       "    </tr>\n",
       "    <tr>\n",
       "      <th>3</th>\n",
       "      <td>9</td>\n",
       "      <td>751</td>\n",
       "      <td>['#seawave']</td>\n",
       "      <td>['TheaterandPerformingArts', 'JewelryMaking']</td>\n",
       "      <td>['ArtsandCulture', 'CreativeArtsandCrafts']</td>\n",
       "      <td>https://testinglive-backend.s3.af-south-1.amaz...</td>\n",
       "      <td>2024-12-11T11:29:11.000000Z</td>\n",
       "      <td>2024-12-30T14:38:13.000000Z</td>\n",
       "      <td>#,s,e,a,w,a,v,e, ,T,h,e,a,t,e,r,a,n,d,P,e,r,f,...</td>\n",
       "    </tr>\n",
       "    <tr>\n",
       "      <th>4</th>\n",
       "      <td>12</td>\n",
       "      <td>747</td>\n",
       "      <td>[\"I'llUpdateyouwhenigettoUnionTown\"]</td>\n",
       "      <td>['TheaterandPerformingArts', 'FanClubs(e.g.spe...</td>\n",
       "      <td>['ArtsandCulture', 'Entertainment']</td>\n",
       "      <td>https://testinglive-backend.s3.af-south-1.amaz...</td>\n",
       "      <td>2024-12-09T14:41:12.000000Z</td>\n",
       "      <td>2024-12-30T14:38:11.000000Z</td>\n",
       "      <td>I,',l,l,U,p,d,a,t,e,y,o,u,w,h,e,n,i,g,e,t,t,o,...</td>\n",
       "    </tr>\n",
       "  </tbody>\n",
       "</table>\n",
       "</div>"
      ],
      "text/plain": [
       "   Unnamed: 0  post_id                                             title  \\\n",
       "0           4      761                           ['MerryChristmas🎄🎁🤶☃️']   \n",
       "1           6      755                          ['DEVAFOINTHEBUILDING!']   \n",
       "2           7      753  ['WhoisreadyforatriptoDubai?#Dubai#Tripplanner']   \n",
       "3           9      751                                      ['#seawave']   \n",
       "4          12      747              [\"I'llUpdateyouwhenigettoUnionTown\"]   \n",
       "\n",
       "                                         description  \\\n",
       "0                    ['EducationalResourcesforKids']   \n",
       "1            ['BusinessNetworking', 'JewelryMaking']   \n",
       "2  ['Comedy', 'AnimeandManga', 'NewParents', 'Sin...   \n",
       "3      ['TheaterandPerformingArts', 'JewelryMaking']   \n",
       "4  ['TheaterandPerformingArts', 'FanClubs(e.g.spe...   \n",
       "\n",
       "                                                tags  \\\n",
       "0                             ['FamilyandParenting']   \n",
       "1  ['BusinessandEntrepreneurship', 'CreativeArtsa...   \n",
       "2  ['Entertainment', 'Entertainment', 'FamilyandP...   \n",
       "3        ['ArtsandCulture', 'CreativeArtsandCrafts']   \n",
       "4                ['ArtsandCulture', 'Entertainment']   \n",
       "\n",
       "                                           image_url  \\\n",
       "0  https://testinglive-backend.s3.af-south-1.amaz...   \n",
       "1  https://testinglive-backend.s3.af-south-1.amaz...   \n",
       "2  https://testinglive-backend.s3.af-south-1.amaz...   \n",
       "3  https://testinglive-backend.s3.af-south-1.amaz...   \n",
       "4  https://testinglive-backend.s3.af-south-1.amaz...   \n",
       "\n",
       "                    created_at                   updated_at  \\\n",
       "0  2024-12-27T08:22:54.000000Z  2024-12-30T14:50:42.000000Z   \n",
       "1  2024-12-19T19:11:37.000000Z  2024-12-30T14:50:12.000000Z   \n",
       "2  2024-12-18T23:38:54.000000Z  2024-12-30T15:06:38.000000Z   \n",
       "3  2024-12-11T11:29:11.000000Z  2024-12-30T14:38:13.000000Z   \n",
       "4  2024-12-09T14:41:12.000000Z  2024-12-30T14:38:11.000000Z   \n",
       "\n",
       "                                       combined_text  \n",
       "0  M,e,r,r,y,C,h,r,i,s,t,m,a,s,🎄,🎁,🤶,☃,️, ,E,d,u,...  \n",
       "1  D,E,V,A,F,O,I,N,T,H,E,B,U,I,L,D,I,N,G,!, ,B,u,...  \n",
       "2  W,h,o,i,s,r,e,a,d,y,f,o,r,a,t,r,i,p,t,o,D,u,b,...  \n",
       "3  #,s,e,a,w,a,v,e, ,T,h,e,a,t,e,r,a,n,d,P,e,r,f,...  \n",
       "4  I,',l,l,U,p,d,a,t,e,y,o,u,w,h,e,n,i,g,e,t,t,o,...  "
      ]
     },
     "execution_count": 111,
     "metadata": {},
     "output_type": "execute_result"
    }
   ],
   "source": [
    "processed_df.head()"
   ]
  },
  {
   "cell_type": "code",
   "execution_count": 119,
   "metadata": {},
   "outputs": [
    {
     "data": {
      "text/plain": [
       "'T,h,e,b,e,s,t,t,o,d,o,i,t, ,A,u,t,o,m,o,t,i,v,e,N,e,w,s,a,n,d,R,e,v,i,e,w,s, ,B,u,s,i,n,e,s,s,N,e,t,w,o,r,k,i,n,g, ,A,u,t,o,m,o,t,i,v,e,a,n,d,V,e,h,i,c,l,e,s, ,B,u,s,i,n,e,s,s,a,n,d,E,n,t,r,e,p,r,e,n,e,u,r,s,h,i,p'"
      ]
     },
     "execution_count": 119,
     "metadata": {},
     "output_type": "execute_result"
    }
   ],
   "source": [
    "processed_df['combined_text'][12]"
   ]
  },
  {
   "cell_type": "code",
   "execution_count": 52,
   "metadata": {},
   "outputs": [
    {
     "ename": "KeyError",
     "evalue": "'combined_text'",
     "output_type": "error",
     "traceback": [
      "\u001b[1;31m---------------------------------------------------------------------------\u001b[0m",
      "\u001b[1;31mKeyError\u001b[0m                                  Traceback (most recent call last)",
      "File \u001b[1;32mc:\\Users\\ATISHKUMAR\\AppData\\Local\\Programs\\Python\\Python311\\Lib\\site-packages\\pandas\\core\\indexes\\base.py:3652\u001b[0m, in \u001b[0;36mIndex.get_loc\u001b[1;34m(self, key)\u001b[0m\n\u001b[0;32m   3651\u001b[0m \u001b[38;5;28;01mtry\u001b[39;00m:\n\u001b[1;32m-> 3652\u001b[0m     \u001b[38;5;28;01mreturn\u001b[39;00m \u001b[38;5;28;43mself\u001b[39;49m\u001b[38;5;241;43m.\u001b[39;49m\u001b[43m_engine\u001b[49m\u001b[38;5;241;43m.\u001b[39;49m\u001b[43mget_loc\u001b[49m\u001b[43m(\u001b[49m\u001b[43mcasted_key\u001b[49m\u001b[43m)\u001b[49m\n\u001b[0;32m   3653\u001b[0m \u001b[38;5;28;01mexcept\u001b[39;00m \u001b[38;5;167;01mKeyError\u001b[39;00m \u001b[38;5;28;01mas\u001b[39;00m err:\n",
      "File \u001b[1;32mc:\\Users\\ATISHKUMAR\\AppData\\Local\\Programs\\Python\\Python311\\Lib\\site-packages\\pandas\\_libs\\index.pyx:147\u001b[0m, in \u001b[0;36mpandas._libs.index.IndexEngine.get_loc\u001b[1;34m()\u001b[0m\n",
      "File \u001b[1;32mc:\\Users\\ATISHKUMAR\\AppData\\Local\\Programs\\Python\\Python311\\Lib\\site-packages\\pandas\\_libs\\index.pyx:176\u001b[0m, in \u001b[0;36mpandas._libs.index.IndexEngine.get_loc\u001b[1;34m()\u001b[0m\n",
      "File \u001b[1;32mpandas\\_libs\\hashtable_class_helper.pxi:7080\u001b[0m, in \u001b[0;36mpandas._libs.hashtable.PyObjectHashTable.get_item\u001b[1;34m()\u001b[0m\n",
      "File \u001b[1;32mpandas\\_libs\\hashtable_class_helper.pxi:7088\u001b[0m, in \u001b[0;36mpandas._libs.hashtable.PyObjectHashTable.get_item\u001b[1;34m()\u001b[0m\n",
      "\u001b[1;31mKeyError\u001b[0m: 'combined_text'",
      "\nThe above exception was the direct cause of the following exception:\n",
      "\u001b[1;31mKeyError\u001b[0m                                  Traceback (most recent call last)",
      "Cell \u001b[1;32mIn[52], line 1\u001b[0m\n\u001b[1;32m----> 1\u001b[0m \u001b[43mnew_df\u001b[49m\u001b[43m[\u001b[49m\u001b[38;5;124;43m'\u001b[39;49m\u001b[38;5;124;43mcombined_text\u001b[39;49m\u001b[38;5;124;43m'\u001b[39;49m\u001b[43m]\u001b[49m[\u001b[38;5;241m12\u001b[39m]\n",
      "File \u001b[1;32mc:\\Users\\ATISHKUMAR\\AppData\\Local\\Programs\\Python\\Python311\\Lib\\site-packages\\pandas\\core\\frame.py:3761\u001b[0m, in \u001b[0;36mDataFrame.__getitem__\u001b[1;34m(self, key)\u001b[0m\n\u001b[0;32m   3759\u001b[0m \u001b[38;5;28;01mif\u001b[39;00m \u001b[38;5;28mself\u001b[39m\u001b[38;5;241m.\u001b[39mcolumns\u001b[38;5;241m.\u001b[39mnlevels \u001b[38;5;241m>\u001b[39m \u001b[38;5;241m1\u001b[39m:\n\u001b[0;32m   3760\u001b[0m     \u001b[38;5;28;01mreturn\u001b[39;00m \u001b[38;5;28mself\u001b[39m\u001b[38;5;241m.\u001b[39m_getitem_multilevel(key)\n\u001b[1;32m-> 3761\u001b[0m indexer \u001b[38;5;241m=\u001b[39m \u001b[38;5;28;43mself\u001b[39;49m\u001b[38;5;241;43m.\u001b[39;49m\u001b[43mcolumns\u001b[49m\u001b[38;5;241;43m.\u001b[39;49m\u001b[43mget_loc\u001b[49m\u001b[43m(\u001b[49m\u001b[43mkey\u001b[49m\u001b[43m)\u001b[49m\n\u001b[0;32m   3762\u001b[0m \u001b[38;5;28;01mif\u001b[39;00m is_integer(indexer):\n\u001b[0;32m   3763\u001b[0m     indexer \u001b[38;5;241m=\u001b[39m [indexer]\n",
      "File \u001b[1;32mc:\\Users\\ATISHKUMAR\\AppData\\Local\\Programs\\Python\\Python311\\Lib\\site-packages\\pandas\\core\\indexes\\base.py:3654\u001b[0m, in \u001b[0;36mIndex.get_loc\u001b[1;34m(self, key)\u001b[0m\n\u001b[0;32m   3652\u001b[0m     \u001b[38;5;28;01mreturn\u001b[39;00m \u001b[38;5;28mself\u001b[39m\u001b[38;5;241m.\u001b[39m_engine\u001b[38;5;241m.\u001b[39mget_loc(casted_key)\n\u001b[0;32m   3653\u001b[0m \u001b[38;5;28;01mexcept\u001b[39;00m \u001b[38;5;167;01mKeyError\u001b[39;00m \u001b[38;5;28;01mas\u001b[39;00m err:\n\u001b[1;32m-> 3654\u001b[0m     \u001b[38;5;28;01mraise\u001b[39;00m \u001b[38;5;167;01mKeyError\u001b[39;00m(key) \u001b[38;5;28;01mfrom\u001b[39;00m \u001b[38;5;21;01merr\u001b[39;00m\n\u001b[0;32m   3655\u001b[0m \u001b[38;5;28;01mexcept\u001b[39;00m \u001b[38;5;167;01mTypeError\u001b[39;00m:\n\u001b[0;32m   3656\u001b[0m     \u001b[38;5;66;03m# If we have a listlike key, _check_indexing_error will raise\u001b[39;00m\n\u001b[0;32m   3657\u001b[0m     \u001b[38;5;66;03m#  InvalidIndexError. Otherwise we fall through and re-raise\u001b[39;00m\n\u001b[0;32m   3658\u001b[0m     \u001b[38;5;66;03m#  the TypeError.\u001b[39;00m\n\u001b[0;32m   3659\u001b[0m     \u001b[38;5;28mself\u001b[39m\u001b[38;5;241m.\u001b[39m_check_indexing_error(key)\n",
      "\u001b[1;31mKeyError\u001b[0m: 'combined_text'"
     ]
    }
   ],
   "source": [
    "new_df['combined_text'][12]"
   ]
  },
  {
   "cell_type": "code",
   "execution_count": 112,
   "metadata": {},
   "outputs": [
    {
     "data": {
      "text/plain": [
       "4                                   [FamilyandParenting]\n",
       "6      [BusinessandEntrepreneurship, CreativeArtsandC...\n",
       "7      [Entertainment, Entertainment, FamilyandParent...\n",
       "9                [ArtsandCulture, CreativeArtsandCrafts]\n",
       "12                       [ArtsandCulture, Entertainment]\n",
       "                             ...                        \n",
       "416    [Entertainment, Entertainment, FamilyandParent...\n",
       "417    [FinanceandInvestment, FinanceandInvestment, F...\n",
       "418    [BusinessandEntrepreneurship, FamilyandParenting]\n",
       "419           [FamilyandParenting, FinanceandInvestment]\n",
       "422    [AutomotiveandVehicles, Entertainment, Enterta...\n",
       "Name: tags, Length: 350, dtype: object"
      ]
     },
     "execution_count": 112,
     "metadata": {},
     "output_type": "execute_result"
    }
   ],
   "source": [
    "new_df['tags']"
   ]
  },
  {
   "cell_type": "code",
   "execution_count": 14,
   "metadata": {},
   "outputs": [],
   "source": [
    "import datetime"
   ]
  },
  {
   "cell_type": "code",
   "execution_count": 113,
   "metadata": {},
   "outputs": [
    {
     "data": {
      "text/plain": [
       "Index(['post_id', 'title', 'description', 'tags', 'image_url', 'created_at',\n",
       "       'updated_at'],\n",
       "      dtype='object')"
      ]
     },
     "execution_count": 113,
     "metadata": {},
     "output_type": "execute_result"
    }
   ],
   "source": [
    "new_df.columns"
   ]
  },
  {
   "cell_type": "code",
   "execution_count": 114,
   "metadata": {},
   "outputs": [
    {
     "name": "stderr",
     "output_type": "stream",
     "text": [
      "C:\\Users\\ATISHKUMAR\\AppData\\Local\\Temp\\ipykernel_5728\\3337726530.py:1: SettingWithCopyWarning: \n",
      "A value is trying to be set on a copy of a slice from a DataFrame.\n",
      "Try using .loc[row_indexer,col_indexer] = value instead\n",
      "\n",
      "See the caveats in the documentation: https://pandas.pydata.org/pandas-docs/stable/user_guide/indexing.html#returning-a-view-versus-a-copy\n",
      "  new_df['created_at']=pd.to_datetime(new_df['created_at'])\n"
     ]
    }
   ],
   "source": [
    "new_df['created_at']=pd.to_datetime(new_df['created_at'])"
   ]
  },
  {
   "cell_type": "code",
   "execution_count": 115,
   "metadata": {},
   "outputs": [
    {
     "name": "stderr",
     "output_type": "stream",
     "text": [
      "C:\\Users\\ATISHKUMAR\\AppData\\Local\\Temp\\ipykernel_5728\\127104515.py:1: SettingWithCopyWarning: \n",
      "A value is trying to be set on a copy of a slice from a DataFrame.\n",
      "Try using .loc[row_indexer,col_indexer] = value instead\n",
      "\n",
      "See the caveats in the documentation: https://pandas.pydata.org/pandas-docs/stable/user_guide/indexing.html#returning-a-view-versus-a-copy\n",
      "  new_df['updated_at']=pd.to_datetime(new_df['updated_at'])\n"
     ]
    }
   ],
   "source": [
    "new_df['updated_at']=pd.to_datetime(new_df['updated_at'])"
   ]
  },
  {
   "cell_type": "code",
   "execution_count": 116,
   "metadata": {},
   "outputs": [
    {
     "data": {
      "text/html": [
       "<div>\n",
       "<style scoped>\n",
       "    .dataframe tbody tr th:only-of-type {\n",
       "        vertical-align: middle;\n",
       "    }\n",
       "\n",
       "    .dataframe tbody tr th {\n",
       "        vertical-align: top;\n",
       "    }\n",
       "\n",
       "    .dataframe thead th {\n",
       "        text-align: right;\n",
       "    }\n",
       "</style>\n",
       "<table border=\"1\" class=\"dataframe\">\n",
       "  <thead>\n",
       "    <tr style=\"text-align: right;\">\n",
       "      <th></th>\n",
       "      <th>post_id</th>\n",
       "      <th>title</th>\n",
       "      <th>description</th>\n",
       "      <th>tags</th>\n",
       "      <th>image_url</th>\n",
       "      <th>created_at</th>\n",
       "      <th>updated_at</th>\n",
       "    </tr>\n",
       "  </thead>\n",
       "  <tbody>\n",
       "    <tr>\n",
       "      <th>4</th>\n",
       "      <td>761</td>\n",
       "      <td>[MerryChristmas🎄🎁🤶☃️]</td>\n",
       "      <td>[EducationalResourcesforKids]</td>\n",
       "      <td>[FamilyandParenting]</td>\n",
       "      <td>https://testinglive-backend.s3.af-south-1.amaz...</td>\n",
       "      <td>2024-12-27 08:22:54+00:00</td>\n",
       "      <td>2024-12-30 14:50:42+00:00</td>\n",
       "    </tr>\n",
       "    <tr>\n",
       "      <th>6</th>\n",
       "      <td>755</td>\n",
       "      <td>[DEVAFOINTHEBUILDING!]</td>\n",
       "      <td>[BusinessNetworking, JewelryMaking]</td>\n",
       "      <td>[BusinessandEntrepreneurship, CreativeArtsandC...</td>\n",
       "      <td>https://testinglive-backend.s3.af-south-1.amaz...</td>\n",
       "      <td>2024-12-19 19:11:37+00:00</td>\n",
       "      <td>2024-12-30 14:50:12+00:00</td>\n",
       "    </tr>\n",
       "    <tr>\n",
       "      <th>7</th>\n",
       "      <td>753</td>\n",
       "      <td>[WhoisreadyforatriptoDubai?#Dubai#Tripplanner]</td>\n",
       "      <td>[Comedy, AnimeandManga, NewParents, SinglePare...</td>\n",
       "      <td>[Entertainment, Entertainment, FamilyandParent...</td>\n",
       "      <td>https://testinglive-backend.s3.af-south-1.amaz...</td>\n",
       "      <td>2024-12-18 23:38:54+00:00</td>\n",
       "      <td>2024-12-30 15:06:38+00:00</td>\n",
       "    </tr>\n",
       "    <tr>\n",
       "      <th>9</th>\n",
       "      <td>751</td>\n",
       "      <td>[#seawave]</td>\n",
       "      <td>[TheaterandPerformingArts, JewelryMaking]</td>\n",
       "      <td>[ArtsandCulture, CreativeArtsandCrafts]</td>\n",
       "      <td>https://testinglive-backend.s3.af-south-1.amaz...</td>\n",
       "      <td>2024-12-11 11:29:11+00:00</td>\n",
       "      <td>2024-12-30 14:38:13+00:00</td>\n",
       "    </tr>\n",
       "    <tr>\n",
       "      <th>12</th>\n",
       "      <td>747</td>\n",
       "      <td>[I'llUpdateyouwhenigettoUnionTown]</td>\n",
       "      <td>[TheaterandPerformingArts, FanClubs(e.g.specif...</td>\n",
       "      <td>[ArtsandCulture, Entertainment]</td>\n",
       "      <td>https://testinglive-backend.s3.af-south-1.amaz...</td>\n",
       "      <td>2024-12-09 14:41:12+00:00</td>\n",
       "      <td>2024-12-30 14:38:11+00:00</td>\n",
       "    </tr>\n",
       "  </tbody>\n",
       "</table>\n",
       "</div>"
      ],
      "text/plain": [
       "    post_id                                           title  \\\n",
       "4       761                           [MerryChristmas🎄🎁🤶☃️]   \n",
       "6       755                          [DEVAFOINTHEBUILDING!]   \n",
       "7       753  [WhoisreadyforatriptoDubai?#Dubai#Tripplanner]   \n",
       "9       751                                      [#seawave]   \n",
       "12      747              [I'llUpdateyouwhenigettoUnionTown]   \n",
       "\n",
       "                                          description  \\\n",
       "4                       [EducationalResourcesforKids]   \n",
       "6                 [BusinessNetworking, JewelryMaking]   \n",
       "7   [Comedy, AnimeandManga, NewParents, SinglePare...   \n",
       "9           [TheaterandPerformingArts, JewelryMaking]   \n",
       "12  [TheaterandPerformingArts, FanClubs(e.g.specif...   \n",
       "\n",
       "                                                 tags  \\\n",
       "4                                [FamilyandParenting]   \n",
       "6   [BusinessandEntrepreneurship, CreativeArtsandC...   \n",
       "7   [Entertainment, Entertainment, FamilyandParent...   \n",
       "9             [ArtsandCulture, CreativeArtsandCrafts]   \n",
       "12                    [ArtsandCulture, Entertainment]   \n",
       "\n",
       "                                            image_url  \\\n",
       "4   https://testinglive-backend.s3.af-south-1.amaz...   \n",
       "6   https://testinglive-backend.s3.af-south-1.amaz...   \n",
       "7   https://testinglive-backend.s3.af-south-1.amaz...   \n",
       "9   https://testinglive-backend.s3.af-south-1.amaz...   \n",
       "12  https://testinglive-backend.s3.af-south-1.amaz...   \n",
       "\n",
       "                  created_at                updated_at  \n",
       "4  2024-12-27 08:22:54+00:00 2024-12-30 14:50:42+00:00  \n",
       "6  2024-12-19 19:11:37+00:00 2024-12-30 14:50:12+00:00  \n",
       "7  2024-12-18 23:38:54+00:00 2024-12-30 15:06:38+00:00  \n",
       "9  2024-12-11 11:29:11+00:00 2024-12-30 14:38:13+00:00  \n",
       "12 2024-12-09 14:41:12+00:00 2024-12-30 14:38:11+00:00  "
      ]
     },
     "execution_count": 116,
     "metadata": {},
     "output_type": "execute_result"
    }
   ],
   "source": [
    "new_df.head()"
   ]
  },
  {
   "cell_type": "code",
   "execution_count": 118,
   "metadata": {},
   "outputs": [
    {
     "name": "stdout",
     "output_type": "stream",
     "text": [
      "<class 'pandas.core.frame.DataFrame'>\n",
      "Index: 350 entries, 4 to 422\n",
      "Data columns (total 7 columns):\n",
      " #   Column       Non-Null Count  Dtype              \n",
      "---  ------       --------------  -----              \n",
      " 0   post_id      350 non-null    int64              \n",
      " 1   title        350 non-null    object             \n",
      " 2   description  350 non-null    object             \n",
      " 3   tags         350 non-null    object             \n",
      " 4   image_url    350 non-null    object             \n",
      " 5   created_at   350 non-null    datetime64[ns, UTC]\n",
      " 6   updated_at   350 non-null    datetime64[ns, UTC]\n",
      "dtypes: datetime64[ns, UTC](2), int64(1), object(4)\n",
      "memory usage: 21.9+ KB\n"
     ]
    }
   ],
   "source": [
    "new_df.info()"
   ]
  },
  {
   "cell_type": "code",
   "execution_count": 18,
   "metadata": {},
   "outputs": [],
   "source": [
    "new_df.to_csv(\"new_df2.csv\")"
   ]
  },
  {
   "cell_type": "code",
   "execution_count": 18,
   "metadata": {},
   "outputs": [
    {
     "name": "stderr",
     "output_type": "stream",
     "text": [
      "/tmp/ipykernel_1246053/3986678524.py:1: SettingWithCopyWarning: \n",
      "A value is trying to be set on a copy of a slice from a DataFrame.\n",
      "Try using .loc[row_indexer,col_indexer] = value instead\n",
      "\n",
      "See the caveats in the documentation: https://pandas.pydata.org/pandas-docs/stable/user_guide/indexing.html#returning-a-view-versus-a-copy\n",
      "  new_df['combined_text'] = new_df.apply(\n"
     ]
    },
    {
     "data": {
      "text/html": [
       "<div>\n",
       "<style scoped>\n",
       "    .dataframe tbody tr th:only-of-type {\n",
       "        vertical-align: middle;\n",
       "    }\n",
       "\n",
       "    .dataframe tbody tr th {\n",
       "        vertical-align: top;\n",
       "    }\n",
       "\n",
       "    .dataframe thead th {\n",
       "        text-align: right;\n",
       "    }\n",
       "</style>\n",
       "<table border=\"1\" class=\"dataframe\">\n",
       "  <thead>\n",
       "    <tr style=\"text-align: right;\">\n",
       "      <th></th>\n",
       "      <th>post_id</th>\n",
       "      <th>title</th>\n",
       "      <th>description</th>\n",
       "      <th>tags</th>\n",
       "      <th>image_url</th>\n",
       "      <th>location</th>\n",
       "      <th>created_at</th>\n",
       "      <th>updated_at</th>\n",
       "      <th>combined_text</th>\n",
       "    </tr>\n",
       "  </thead>\n",
       "  <tbody>\n",
       "    <tr>\n",
       "      <th>0</th>\n",
       "      <td>1625</td>\n",
       "      <td>Testing</td>\n",
       "      <td>Scrapbooking,Candle Making,Fiction Writing,Pet...</td>\n",
       "      <td>[Creative Arts and Crafts, Creative Arts and C...</td>\n",
       "      <td>https://testinglive-backend.s3.af-south-1.amaz...</td>\n",
       "      <td>NaN</td>\n",
       "      <td>2024-12-13T11:31:01.000000Z</td>\n",
       "      <td>2024-12-13T14:34:47.000000Z</td>\n",
       "      <td>Testing Scrapbooking,Candle Making,Fiction Wri...</td>\n",
       "    </tr>\n",
       "    <tr>\n",
       "      <th>2</th>\n",
       "      <td>1619</td>\n",
       "      <td>My first Pnpm Build in VG and Ever Seems nice!...</td>\n",
       "      <td>Candle Making,Fiction Writing,Job Hunting</td>\n",
       "      <td>[Creative Arts and Crafts, Creative Writing an...</td>\n",
       "      <td>https://testinglive-backend.s3.af-south-1.amaz...</td>\n",
       "      <td>NaN</td>\n",
       "      <td>2024-12-13T04:35:06.000000Z</td>\n",
       "      <td>2024-12-13T08:07:03.000000Z</td>\n",
       "      <td>My first Pnpm Build in VG and Ever Seems nice!...</td>\n",
       "    </tr>\n",
       "    <tr>\n",
       "      <th>4</th>\n",
       "      <td>1617</td>\n",
       "      <td>Don't worry if you get lost in Venice, it's al...</td>\n",
       "      <td>Comedy,New Parents,Single Parenting</td>\n",
       "      <td>[Entertainment, Family and Parenting, Family a...</td>\n",
       "      <td>https://testinglive-backend.s3.af-south-1.amaz...</td>\n",
       "      <td>Ireland</td>\n",
       "      <td>2024-12-01T11:31:19.000000Z</td>\n",
       "      <td>2024-12-11T03:57:49.000000Z</td>\n",
       "      <td>Don't worry if you get lost in Venice, it's al...</td>\n",
       "    </tr>\n",
       "    <tr>\n",
       "      <th>5</th>\n",
       "      <td>1616</td>\n",
       "      <td>Pack a swimsuit and a raincoat for Scotland's ...</td>\n",
       "      <td>Theater and Performing Arts,Car Enthusiasts,Th...</td>\n",
       "      <td>[Arts and Culture, Automotive and Vehicles, En...</td>\n",
       "      <td>https://testinglive-backend.s3.af-south-1.amaz...</td>\n",
       "      <td>Ireland</td>\n",
       "      <td>2024-11-30T11:31:20.000000Z</td>\n",
       "      <td>2024-11-30T12:09:59.000000Z</td>\n",
       "      <td>Pack a swimsuit and a raincoat for Scotland's ...</td>\n",
       "    </tr>\n",
       "    <tr>\n",
       "      <th>6</th>\n",
       "      <td>1615</td>\n",
       "      <td>Don't be alarmed when villagers in Scotland gr...</td>\n",
       "      <td>Comedy,Fan Clubs (e.g. specific bands actors)</td>\n",
       "      <td>[Entertainment, Entertainment]</td>\n",
       "      <td>https://testinglive-backend.s3.af-south-1.amaz...</td>\n",
       "      <td>Ireland</td>\n",
       "      <td>2024-11-29T11:32:14.000000Z</td>\n",
       "      <td>2024-11-30T12:09:54.000000Z</td>\n",
       "      <td>Don't be alarmed when villagers in Scotland gr...</td>\n",
       "    </tr>\n",
       "  </tbody>\n",
       "</table>\n",
       "</div>"
      ],
      "text/plain": [
       "   post_id                                              title  \\\n",
       "0     1625                                            Testing   \n",
       "2     1619  My first Pnpm Build in VG and Ever Seems nice!...   \n",
       "4     1617  Don't worry if you get lost in Venice, it's al...   \n",
       "5     1616  Pack a swimsuit and a raincoat for Scotland's ...   \n",
       "6     1615  Don't be alarmed when villagers in Scotland gr...   \n",
       "\n",
       "                                         description  \\\n",
       "0  Scrapbooking,Candle Making,Fiction Writing,Pet...   \n",
       "2          Candle Making,Fiction Writing,Job Hunting   \n",
       "4                Comedy,New Parents,Single Parenting   \n",
       "5  Theater and Performing Arts,Car Enthusiasts,Th...   \n",
       "6      Comedy,Fan Clubs (e.g. specific bands actors)   \n",
       "\n",
       "                                                tags  \\\n",
       "0  [Creative Arts and Crafts, Creative Arts and C...   \n",
       "2  [Creative Arts and Crafts, Creative Writing an...   \n",
       "4  [Entertainment, Family and Parenting, Family a...   \n",
       "5  [Arts and Culture, Automotive and Vehicles, En...   \n",
       "6                     [Entertainment, Entertainment]   \n",
       "\n",
       "                                           image_url location  \\\n",
       "0  https://testinglive-backend.s3.af-south-1.amaz...      NaN   \n",
       "2  https://testinglive-backend.s3.af-south-1.amaz...      NaN   \n",
       "4  https://testinglive-backend.s3.af-south-1.amaz...  Ireland   \n",
       "5  https://testinglive-backend.s3.af-south-1.amaz...  Ireland   \n",
       "6  https://testinglive-backend.s3.af-south-1.amaz...  Ireland   \n",
       "\n",
       "                    created_at                   updated_at  \\\n",
       "0  2024-12-13T11:31:01.000000Z  2024-12-13T14:34:47.000000Z   \n",
       "2  2024-12-13T04:35:06.000000Z  2024-12-13T08:07:03.000000Z   \n",
       "4  2024-12-01T11:31:19.000000Z  2024-12-11T03:57:49.000000Z   \n",
       "5  2024-11-30T11:31:20.000000Z  2024-11-30T12:09:59.000000Z   \n",
       "6  2024-11-29T11:32:14.000000Z  2024-11-30T12:09:54.000000Z   \n",
       "\n",
       "                                       combined_text  \n",
       "0  Testing Scrapbooking,Candle Making,Fiction Wri...  \n",
       "2  My first Pnpm Build in VG and Ever Seems nice!...  \n",
       "4  Don't worry if you get lost in Venice, it's al...  \n",
       "5  Pack a swimsuit and a raincoat for Scotland's ...  \n",
       "6  Don't be alarmed when villagers in Scotland gr...  "
      ]
     },
     "execution_count": 18,
     "metadata": {},
     "output_type": "execute_result"
    }
   ],
   "source": [
    "new_df['combined_text'] = new_df.apply(\n",
    "            lambda x: f\"{x['title']} {x['description']} {x['location']} {' '.join(x['tags'])}\", \n",
    "            axis=1\n",
    "        )\n",
    "new_df.head()"
   ]
  },
  {
   "cell_type": "code",
   "execution_count": 48,
   "metadata": {},
   "outputs": [
    {
     "data": {
      "text/plain": [
       "0      Testing Scrapbooking CandleMaking FictionWriti...\n",
       "2      My first Pnpm Build in VG and Ever Seems nice!...\n",
       "4      Don't worry if you get lost in Venice, it's al...\n",
       "5      Pack a swimsuit and a raincoat for Scotland's ...\n",
       "6      Don't be alarmed when villagers in Scotland gr...\n",
       "                             ...                        \n",
       "960    Gopaddi is coming soon...🥰 InvestmentandVentur...\n",
       "961    Gopaddi is coming soon... InvestmentandVenture...\n",
       "962    Gopaddi is coming soon... InvestmentandVenture...\n",
       "963    New post InvestmentandVentureCapital JewelryMa...\n",
       "964    Fighter with gear in picture CulturalFestivals...\n",
       "Name: combined_text, Length: 225, dtype: object"
      ]
     },
     "execution_count": 48,
     "metadata": {},
     "output_type": "execute_result"
    }
   ],
   "source": [
    "new_df['combined_text']"
   ]
  },
  {
   "cell_type": "code",
   "execution_count": 24,
   "metadata": {},
   "outputs": [
    {
     "data": {
      "text/plain": [
       "0      Creative_Arts_and_Crafts,_Creative_Arts_and_Cr...\n",
       "2      Creative_Arts_and_Crafts,_Creative_Writing_and...\n",
       "4      Entertainment,_Family_and_Parenting,_Family_an...\n",
       "5      Arts_and_Culture,_Automotive_and_Vehicles,_Ent...\n",
       "6                           Entertainment,_Entertainment\n",
       "                             ...                        \n",
       "960    Business_and_Entrepreneurship,_Creative_Arts_a...\n",
       "961                        Business_and_Entrepreneurship\n",
       "962                        Business_and_Entrepreneurship\n",
       "963    Business_and_Entrepreneurship,_Creative_Arts_a...\n",
       "964      Arts_and_Culture,_Business_and_Entrepreneurship\n",
       "Name: tags, Length: 225, dtype: object"
      ]
     },
     "execution_count": 24,
     "metadata": {},
     "output_type": "execute_result"
    }
   ],
   "source": [
    "new_df['tags']"
   ]
  },
  {
   "cell_type": "code",
   "execution_count": null,
   "metadata": {},
   "outputs": [],
   "source": []
  }
 ],
 "metadata": {
  "kernelspec": {
   "display_name": "Python 3",
   "language": "python",
   "name": "python3"
  },
  "language_info": {
   "codemirror_mode": {
    "name": "ipython",
    "version": 3
   },
   "file_extension": ".py",
   "mimetype": "text/x-python",
   "name": "python",
   "nbconvert_exporter": "python",
   "pygments_lexer": "ipython3",
   "version": "3.11.3"
  }
 },
 "nbformat": 4,
 "nbformat_minor": 2
}
